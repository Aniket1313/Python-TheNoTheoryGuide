{
 "cells": [
  {
   "cell_type": "markdown",
   "metadata": {},
   "source": [
    "# Getting Started with Python by @iArunava"
   ]
  },
  {
   "cell_type": "markdown",
   "metadata": {},
   "source": [
    "This Notebook will get one boosted with python. So, Let's get started!"
   ]
  },
  {
   "cell_type": "markdown",
   "metadata": {},
   "source": [
    "Comments:"
   ]
  },
  {
   "cell_type": "code",
   "execution_count": 1,
   "metadata": {},
   "outputs": [
    {
     "data": {
      "text/plain": [
       "' This is a multiline comment\\n    pretty awesome!!\\n    Let me introduce you to jennifer!'"
      ]
     },
     "execution_count": 1,
     "metadata": {},
     "output_type": "execute_result"
    }
   ],
   "source": [
    "# This is a python tutorial and a single line comment\n",
    "''' This is a multiline comment\n",
    "    pretty awesome!!\n",
    "    Let me introduce you to jennifer!'''"
   ]
  },
  {
   "cell_type": "markdown",
   "metadata": {},
   "source": [
    "Imports:"
   ]
  },
  {
   "cell_type": "code",
   "execution_count": 16,
   "metadata": {
    "collapsed": true
   },
   "outputs": [],
   "source": [
    "import math\n",
    "import random"
   ]
  },
  {
   "cell_type": "markdown",
   "metadata": {},
   "source": [
    "Variables:"
   ]
  },
  {
   "cell_type": "code",
   "execution_count": 3,
   "metadata": {},
   "outputs": [],
   "source": [
    "msg = \"Python!\"  # String\n",
    "v2 = 'Python!'   # Also String works same\n",
    "v1 = 2           # Numbers\n",
    "v3 = 3.564       # Floats / Doubles"
   ]
  },
  {
   "cell_type": "markdown",
   "metadata": {},
   "source": [
    "Print:"
   ]
  },
  {
   "cell_type": "code",
   "execution_count": 17,
   "metadata": {},
   "outputs": [
    {
     "name": "stdout",
     "output_type": "stream",
     "text": [
      "Python!\n",
      "Python!\n",
      "2\n",
      "3.564\n",
      "Hello Python!\n"
     ]
    }
   ],
   "source": [
    "print (msg)\n",
    "print (v2)\n",
    "print (v1)\n",
    "print (v3)\n",
    "print (\"Hello Python!\")"
   ]
  },
  {
   "cell_type": "markdown",
   "metadata": {},
   "source": [
    "Note: Both \" and ' can be used to make strings. And this flexibility allows for the following:"
   ]
  },
  {
   "cell_type": "code",
   "execution_count": 5,
   "metadata": {},
   "outputs": [
    {
     "name": "stdout",
     "output_type": "stream",
     "text": [
      "Jennifer said, \"I love Python!\"\n",
      "After that Jennifer's Python Interpreter said it back to her!\n",
      "Of Course she used the command `print(\"I love Jennifer\")`\n"
     ]
    }
   ],
   "source": [
    "msg2 = 'Jennifer said, \"I love Python!\"'\n",
    "msg3 = \"After that Jennifer's Python Interpreter said it back to her!\"\n",
    "msg4 = 'Of Course she used the command `print(\"I love Jennifer\")`'\n",
    "\n",
    "# Now, let's print them\n",
    "print (msg2)\n",
    "print (msg3)\n",
    "print (msg4)"
   ]
  },
  {
   "cell_type": "markdown",
   "metadata": {},
   "source": [
    "Case change of string variables:"
   ]
  },
  {
   "cell_type": "code",
   "execution_count": 6,
   "metadata": {},
   "outputs": [
    {
     "name": "stdout",
     "output_type": "stream",
     "text": [
      "Jennifer Loves Python\n",
      "JENNIFER LOVES PYTHON\n",
      "jennifer loves python\n"
     ]
    }
   ],
   "source": [
    "name    = \"jennifEr loves Python\"\n",
    "\n",
    "# Change name string to title case i.e. first letter of each word is capitalized\n",
    "name_t  = name.title() \n",
    "print (name_t)\n",
    "\n",
    "# Change name string to upper case i.e. first letter of each word is capitalized\n",
    "name_t  = name.upper() \n",
    "print (name_t)\n",
    "\n",
    "# Change name string to lower case i.e. first letter of each word is capitalized\n",
    "name_t  = name.lower() \n",
    "print (name_t)"
   ]
  },
  {
   "cell_type": "markdown",
   "metadata": {},
   "source": [
    "String Concatenation:"
   ]
  },
  {
   "cell_type": "code",
   "execution_count": 7,
   "metadata": {},
   "outputs": [
    {
     "name": "stdout",
     "output_type": "stream",
     "text": [
      "jennifer python\n",
      "Jennifer Python\n",
      "Jennifer Python\n"
     ]
    }
   ],
   "source": [
    "fname = \"jennifer\"\n",
    "lname = \"python\"\n",
    "flname = fname + \" \" + lname\n",
    "\n",
    "print (fname + \" \" + lname)\n",
    "print (\"Jennifer\" + \" \" + \"Python\")\n",
    "# OR equivalently\n",
    "print (flname.title())"
   ]
  },
  {
   "cell_type": "markdown",
   "metadata": {},
   "source": [
    "Adding WhiteSpaces:"
   ]
  },
  {
   "cell_type": "code",
   "execution_count": 8,
   "metadata": {},
   "outputs": [
    {
     "name": "stdout",
     "output_type": "stream",
     "text": [
      "Jen\n",
      "loves\n",
      "python\n"
     ]
    }
   ],
   "source": [
    "print (\"Jen\\nloves\\npython\")"
   ]
  },
  {
   "cell_type": "code",
   "execution_count": 9,
   "metadata": {},
   "outputs": [
    {
     "name": "stdout",
     "output_type": "stream",
     "text": [
      "Jen\tloves\tpython\n"
     ]
    }
   ],
   "source": [
    "print (\"Jen\\tloves\\tpython\")"
   ]
  },
  {
   "cell_type": "code",
   "execution_count": 10,
   "metadata": {},
   "outputs": [
    {
     "name": "stdout",
     "output_type": "stream",
     "text": [
      "Jen\tloves\n",
      "python\n"
     ]
    }
   ],
   "source": [
    "print (\"Jen\\tloves\\npython\")"
   ]
  },
  {
   "cell_type": "markdown",
   "metadata": {},
   "source": [
    "Stripping Whitespace:"
   ]
  },
  {
   "cell_type": "code",
   "execution_count": 11,
   "metadata": {},
   "outputs": [
    {
     "name": "stdout",
     "output_type": "stream",
     "text": [
      "    Jennifer\n",
      "Jennifer    \n",
      "  Jennifer  \n",
      "----------\n",
      "Jennifer\n",
      "Jennifer\n",
      "Jennifer\n"
     ]
    }
   ],
   "source": [
    "name1 = \"    Jennifer\"\n",
    "name2 = \"Jennifer    \"\n",
    "name3 = \"  Jennifer  \"\n",
    "\n",
    "print (name1)\n",
    "print (name2)\n",
    "print (name3)\n",
    "print (\"----------\")\n",
    "print (name1.lstrip()) # lstrip() takes all extra whitespaces from left\n",
    "print (name2.rstrip()) # rstrip() takes all extra whitespaces from right\n",
    "print (name3.strip())  # strip() takes all extra whitespaces from both left and right"
   ]
  },
  {
   "cell_type": "markdown",
   "metadata": {},
   "source": [
    "Arithmetic Operations:"
   ]
  },
  {
   "cell_type": "code",
   "execution_count": 12,
   "metadata": {},
   "outputs": [
    {
     "name": "stdout",
     "output_type": "stream",
     "text": [
      "5\n",
      "59.6885\n",
      "------------\n",
      "-1\n",
      "30.78\n",
      "------------\n",
      "12\n",
      "257.03999999999996\n",
      "------------\n",
      "2.5\n",
      "2.5\n",
      "2.5\n",
      "5.0\n",
      "------------\n",
      "256\n",
      "182.28426299999998\n"
     ]
    }
   ],
   "source": [
    "# Add\n",
    "print (3 + 2)\n",
    "print (3.4565 + 56.232)\n",
    "print ('------------')\n",
    "\n",
    "# Subtract\n",
    "print (3 - 4)\n",
    "print (34.56 - 3.78)\n",
    "print ('------------')\n",
    "\n",
    "# Multiply\n",
    "print (4 * 3)\n",
    "print (7.56 * 34)\n",
    "print ('------------')\n",
    "\n",
    "# Division\n",
    "print (5 / 2)\n",
    "print (5.0 / 2)\n",
    "print (5 / 2.0)\n",
    "print (25.0 / 5)\n",
    "print ('------------')\n",
    "\n",
    "# Exponents\n",
    "print (4 ** 4)\n",
    "print (5.67 ** 3)"
   ]
  },
  {
   "cell_type": "markdown",
   "metadata": {},
   "source": [
    "Tricks #1:"
   ]
  },
  {
   "cell_type": "code",
   "execution_count": 13,
   "metadata": {},
   "outputs": [
    {
     "name": "stdout",
     "output_type": "stream",
     "text": [
      "wewewewewe\n"
     ]
    }
   ],
   "source": [
    "print (\"we\" * 5)"
   ]
  },
  {
   "cell_type": "markdown",
   "metadata": {},
   "source": [
    "str() function:"
   ]
  },
  {
   "cell_type": "code",
   "execution_count": 14,
   "metadata": {},
   "outputs": [
    {
     "name": "stdout",
     "output_type": "stream",
     "text": [
      "Jennifer's age is 21\n"
     ]
    }
   ],
   "source": [
    "jensage = 21\n",
    "# print (\"Jennifer's age is \" + jensage) ## This is an error as one cannot concatenate string and integer\n",
    "print (\"Jennifer's age is \" + str(jensage)) # This works!"
   ]
  },
  {
   "cell_type": "code",
   "execution_count": null,
   "metadata": {},
   "outputs": [],
   "source": []
  }
 ],
 "metadata": {
  "kernelspec": {
   "display_name": "Python 3",
   "language": "python",
   "name": "python3"
  },
  "language_info": {
   "codemirror_mode": {
    "name": "ipython",
    "version": 3
   },
   "file_extension": ".py",
   "mimetype": "text/x-python",
   "name": "python",
   "nbconvert_exporter": "python",
   "pygments_lexer": "ipython3",
   "version": "3.5.3"
  }
 },
 "nbformat": 4,
 "nbformat_minor": 2
}
