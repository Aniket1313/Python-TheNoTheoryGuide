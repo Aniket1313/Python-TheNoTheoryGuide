{
 "cells": [
  {
   "cell_type": "markdown",
   "metadata": {},
   "source": [
    "# Getting Started with Python by @iArunava"
   ]
  },
  {
   "cell_type": "markdown",
   "metadata": {},
   "source": [
    "This Notebook will get one boosted with python. So, Let's get started!"
   ]
  },
  {
   "cell_type": "markdown",
   "metadata": {},
   "source": [
    "#### Comments:"
   ]
  },
  {
   "cell_type": "code",
   "execution_count": null,
   "metadata": {
    "scrolled": true
   },
   "outputs": [],
   "source": [
    "# This is a python tutorial and a single line comment\n",
    "''' This is a multiline comment\n",
    "    pretty awesome!!\n",
    "    Let me introduce you to jennifer!'''"
   ]
  },
  {
   "cell_type": "markdown",
   "metadata": {},
   "source": [
    "#### Imports:"
   ]
  },
  {
   "cell_type": "code",
   "execution_count": null,
   "metadata": {},
   "outputs": [],
   "source": [
    "import math\n",
    "import random"
   ]
  },
  {
   "cell_type": "markdown",
   "metadata": {},
   "source": [
    "#### Variables:"
   ]
  },
  {
   "cell_type": "code",
   "execution_count": null,
   "metadata": {},
   "outputs": [],
   "source": [
    "msg = \"Python!\"  # String\n",
    "v2 = 'Python!'   # Also String works same\n",
    "v1 = 2           # Numbers\n",
    "v3 = 3.564       # Floats / Doubles\n",
    "v4 = True        # Boolean (True / False)"
   ]
  },
  {
   "cell_type": "markdown",
   "metadata": {},
   "source": [
    "#### Print:"
   ]
  },
  {
   "cell_type": "code",
   "execution_count": null,
   "metadata": {
    "scrolled": true
   },
   "outputs": [],
   "source": [
    "# print() automatically adds a newline\n",
    "print (msg)\n",
    "print (v2)\n",
    "print (v1)\n",
    "print (v3)\n",
    "print (v4)\n",
    "print (\"Hello Python!\")"
   ]
  },
  {
   "cell_type": "markdown",
   "metadata": {},
   "source": [
    "##### Note: \n",
    "Both \" and ' can be used to make strings. And this flexibility allows for the following:"
   ]
  },
  {
   "cell_type": "code",
   "execution_count": null,
   "metadata": {},
   "outputs": [],
   "source": [
    "msg2 = 'Jennifer said, \"I love Python!\"'\n",
    "msg3 = \"After that Jennifer's Python Interpreter said it back to her!\"\n",
    "msg4 = 'Of Course she used the command `print(\"I love Jennifer\")`'\n",
    "\n",
    "# Now, let's print them\n",
    "print (msg2)\n",
    "print (msg3)\n",
    "print (msg4)"
   ]
  },
  {
   "cell_type": "markdown",
   "metadata": {},
   "source": [
    "### Conditional Blocks"
   ]
  },
  {
   "cell_type": "code",
   "execution_count": null,
   "metadata": {},
   "outputs": [],
   "source": [
    "# if..else\n",
    "v1 = 5\n",
    "if v1 == 5:\n",
    "    print (v1)\n",
    "else:\n",
    "    print (\"v1 is not 5\")"
   ]
  },
  {
   "cell_type": "code",
   "execution_count": null,
   "metadata": {},
   "outputs": [],
   "source": [
    "# if..elif..else\n",
    "s1 = \"Jennifer\"\n",
    "s2 = \"loves\"\n",
    "s3 = \"Python\"\n",
    "if s1 == \"Python\":\n",
    "    print (\"s1 is Python\")\n",
    "elif s2 == \"Jennifer\":\n",
    "    print (\"s2 is Jennifer\")\n",
    "elif s1 == \"loves\":\n",
    "    print (\"s1 is loves\")\n",
    "else:\n",
    "    print (\"Jennifer loves Python!\")"
   ]
  },
  {
   "cell_type": "code",
   "execution_count": null,
   "metadata": {},
   "outputs": [],
   "source": [
    "# One liner\n",
    "v1 = 5\n",
    "x = 10 if v1 == 5 else 13\n",
    "print (x)"
   ]
  },
  {
   "cell_type": "code",
   "execution_count": null,
   "metadata": {},
   "outputs": [],
   "source": [
    "# Let's see the conditionals available\n",
    "v1 = \"Jennifer\"\n",
    "v2 = \"Python\"\n",
    "v3 = 45\n",
    "v4 = 67\n",
    "v5 = 45\n",
    "\n",
    "# Test for equality\n",
    "print (v1 == v2)\n",
    "\n",
    "# Test for greater than and greater than equal\n",
    "print (v4 > v3)\n",
    "print (v5 >= v2)\n",
    "\n",
    "# Test for lesser than and lesser than equal\n",
    "print (v4 < v3)\n",
    "print (v5 <= v2)\n",
    "\n",
    "# Inequality\n",
    "print (v1 != v2)"
   ]
  },
  {
   "cell_type": "code",
   "execution_count": null,
   "metadata": {},
   "outputs": [],
   "source": [
    "# Note:\n",
    "v1 = 45\n",
    "v2 = \"45\"\n",
    "print (v1 == v2) # False\n",
    "print (str(v1) == v2) # True"
   ]
  },
  {
   "cell_type": "code",
   "execution_count": null,
   "metadata": {},
   "outputs": [],
   "source": [
    "# Ignore case when comparing two strings\n",
    "s1 = \"Jennifer\"\n",
    "s2 = \"jennifer\"\n",
    "\n",
    "print (s1 == s2) # False\n",
    "print (s1.lower() == s2.lower()) # True\n",
    "# OR\n",
    "print (s1.upper() == s2.upper()) # True"
   ]
  },
  {
   "cell_type": "code",
   "execution_count": null,
   "metadata": {},
   "outputs": [],
   "source": [
    "# Checking multiple conditions 'and' and 'or'\n",
    "v1 = \"Jennifer\"\n",
    "v2 = \"Python\"\n",
    "\n",
    "# 'and' -> evaluates true when both conditions are True\n",
    "print (v1 == \"Jennifer\" and v2 == \"Python\")\n",
    "# 'or' -> evaluates true when any one condition is True\n",
    "print (v1 == \"Python\" or v2 == \"Python\")"
   ]
  },
  {
   "cell_type": "markdown",
   "metadata": {},
   "source": [
    "##### Note: \n",
    "When making comparisons with string with '>' or '<'\n",
    "The strings are compared lexographically."
   ]
  },
  {
   "cell_type": "code",
   "execution_count": null,
   "metadata": {},
   "outputs": [],
   "source": [
    "s1 = \"Jennifer\"\n",
    "s2 = \"Python\"\n",
    "\n",
    "print (s1 > s2) # True -> since 'Jennifer' comes lexographically before 'Python'"
   ]
  },
  {
   "cell_type": "code",
   "execution_count": null,
   "metadata": {},
   "outputs": [],
   "source": [
    "# Check whether a value is in a list -> 'in'\n",
    "l1 = [23, 45, 67, \"Jennifer\", \"Python\", 'A']\n",
    "\n",
    "print (23 in l1)\n",
    "print ('A' in l1)\n",
    "print (\"Python\" in l1)\n",
    "print (32 in l1)"
   ]
  },
  {
   "cell_type": "code",
   "execution_count": null,
   "metadata": {},
   "outputs": [],
   "source": [
    "# Putting it together\n",
    "l1 = [23, 1, 'A', \"Jennifer\", 9.34]\n",
    "\n",
    "# This is True, so the other statements are not checked\n",
    "if 23 in l1 and 'B' not in l1: # Note: use of 'not'\n",
    "    print (\"1\")\n",
    "elif 23 >= l1[0]: # True\n",
    "    print (\"2\")\n",
    "elif 2.45 < l1[-1]: # True\n",
    "    print (\"3\")"
   ]
  },
  {
   "cell_type": "code",
   "execution_count": null,
   "metadata": {},
   "outputs": [],
   "source": [
    "# Checking if list is empty\n",
    "l1 = []\n",
    "l2 = [\"Jennifer\"]\n",
    "\n",
    "if l1:\n",
    "    print (1)\n",
    "elif l2:\n",
    "    print (2)"
   ]
  },
  {
   "cell_type": "markdown",
   "metadata": {},
   "source": [
    "### Case change of string variables:"
   ]
  },
  {
   "cell_type": "code",
   "execution_count": null,
   "metadata": {},
   "outputs": [],
   "source": [
    "name    = \"jennifEr loves Python\"\n",
    "\n",
    "# Change name string to title case i.e. first letter of each word is capitalized\n",
    "name_t  = name.title() \n",
    "print (name_t)\n",
    "\n",
    "# Change name string to upper case i.e. first letter of each word is capitalized\n",
    "name_t  = name.upper() \n",
    "print (name_t)\n",
    "\n",
    "# Change name string to lower case i.e. first letter of each word is capitalized\n",
    "name_t  = name.lower() \n",
    "print (name_t)"
   ]
  },
  {
   "cell_type": "markdown",
   "metadata": {},
   "source": [
    "### String Concatenation:"
   ]
  },
  {
   "cell_type": "code",
   "execution_count": null,
   "metadata": {},
   "outputs": [],
   "source": [
    "fname = \"jennifer\"\n",
    "lname = \"python\"\n",
    "flname = fname + \" \" + lname\n",
    "\n",
    "print (fname + \" \" + lname)\n",
    "print (\"Jennifer\" + \" \" + \"Python\")\n",
    "# OR equivalently\n",
    "print (flname.title())"
   ]
  },
  {
   "cell_type": "markdown",
   "metadata": {},
   "source": [
    "### Adding WhiteSpaces:"
   ]
  },
  {
   "cell_type": "code",
   "execution_count": null,
   "metadata": {},
   "outputs": [],
   "source": [
    "print (\"Jen\\nloves\\npython\")"
   ]
  },
  {
   "cell_type": "code",
   "execution_count": null,
   "metadata": {},
   "outputs": [],
   "source": [
    "print (\"Jen\\tloves\\tpython\")"
   ]
  },
  {
   "cell_type": "code",
   "execution_count": null,
   "metadata": {},
   "outputs": [],
   "source": [
    "print (\"Jen\\tloves\\npython\")"
   ]
  },
  {
   "cell_type": "markdown",
   "metadata": {},
   "source": [
    "### Stripping Whitespace:"
   ]
  },
  {
   "cell_type": "code",
   "execution_count": null,
   "metadata": {},
   "outputs": [],
   "source": [
    "name1 = \"    Jennifer\"\n",
    "name2 = \"Jennifer    \"\n",
    "name3 = \"  Jennifer  \"\n",
    "\n",
    "print (name1)\n",
    "print (name2)\n",
    "print (name3)\n",
    "print (\"----------\")\n",
    "print (name1.lstrip()) # lstrip() takes all extra whitespaces from left\n",
    "print (name2.rstrip()) # rstrip() takes all extra whitespaces from right\n",
    "print (name3.strip())  # strip() takes all extra whitespaces from both left and right"
   ]
  },
  {
   "cell_type": "markdown",
   "metadata": {},
   "source": [
    "### Arithmetic Operations:"
   ]
  },
  {
   "cell_type": "code",
   "execution_count": null,
   "metadata": {},
   "outputs": [],
   "source": [
    "# Add\n",
    "print (3 + 2)\n",
    "print (3.4565 + 56.232)\n",
    "print ('------------')\n",
    "\n",
    "# Subtract\n",
    "print (3 - 4)\n",
    "print (34.56 - 3.78)\n",
    "print ('------------')\n",
    "\n",
    "# Multiply\n",
    "print (4 * 3)\n",
    "print (7.56 * 34)\n",
    "print ('------------')\n",
    "\n",
    "# Division\n",
    "print (5 / 2)\n",
    "print (5.0 / 2)\n",
    "print (5 / 2.0)\n",
    "print (25.0 / 5)\n",
    "print ('------------')\n",
    "\n",
    "# Exponents\n",
    "print (4 ** 4)\n",
    "print (5.67 ** 3)"
   ]
  },
  {
   "cell_type": "markdown",
   "metadata": {},
   "source": [
    "Tricks #1:"
   ]
  },
  {
   "cell_type": "code",
   "execution_count": null,
   "metadata": {},
   "outputs": [],
   "source": [
    "print (\"we\" * 5)"
   ]
  },
  {
   "cell_type": "markdown",
   "metadata": {},
   "source": [
    "### str() function:"
   ]
  },
  {
   "cell_type": "code",
   "execution_count": null,
   "metadata": {},
   "outputs": [],
   "source": [
    "jensage = 21\n",
    "# print (\"Jennifer's age is \" + jensage) ## This is an error as one cannot concatenate string and integer\n",
    "print (\"Jennifer's age is \" + str(jensage)) # This works!"
   ]
  },
  {
   "cell_type": "markdown",
   "metadata": {},
   "source": [
    "The Zen Of Python.\n",
    "In your interpreter import 'this'"
   ]
  },
  {
   "cell_type": "code",
   "execution_count": null,
   "metadata": {},
   "outputs": [],
   "source": [
    "import this"
   ]
  },
  {
   "cell_type": "markdown",
   "metadata": {},
   "source": [
    "## Lists:"
   ]
  },
  {
   "cell_type": "code",
   "execution_count": null,
   "metadata": {},
   "outputs": [],
   "source": [
    "names = [\"Jennifer\", \"Python\", \"Scarlett\"]\n",
    "print (names)\n",
    "\n",
    "# Can have multiple data types in one list\n",
    "rand_list = [\"Jennifer\", \"Python\", \"refinneJ\", \"J\", \"9\", 9, 12.90, \"Who\"]\n",
    "print (rand_list)"
   ]
  },
  {
   "cell_type": "markdown",
   "metadata": {},
   "source": [
    "### Accessing elements in a list:"
   ]
  },
  {
   "cell_type": "code",
   "execution_count": null,
   "metadata": {},
   "outputs": [],
   "source": [
    "# O-indexed\n",
    "print (names[2])\n",
    "print (rand_list[3])\n",
    "print (names[0] + \" \" + rand_list[2].title())"
   ]
  },
  {
   "cell_type": "markdown",
   "metadata": {},
   "source": [
    "Negetive indexes:\n",
    "One can access the elements from the end of the list without knowing the size of the list"
   ]
  },
  {
   "cell_type": "code",
   "execution_count": null,
   "metadata": {},
   "outputs": [],
   "source": [
    "print (rand_list[-1]) # Returns the last element of the list [1st from the end]\n",
    "print (rand_list[-2]) # Returns the 2nd last element\n",
    "# and so on.."
   ]
  },
  {
   "cell_type": "markdown",
   "metadata": {},
   "source": [
    "Now here's a question."
   ]
  },
  {
   "cell_type": "code",
   "execution_count": null,
   "metadata": {},
   "outputs": [],
   "source": [
    "print (rand_list[-1] + \" is \" + names[2] + \"?\")\n",
    "print (\"A) \" + rand_list[0] + \"'s sister\\tB) \" + names[0] + \"'s Friend\\nC) Not Related to \" + rand_list[-8] + \"\\tD) Nice question but I don't know\")"
   ]
  },
  {
   "cell_type": "markdown",
   "metadata": {},
   "source": [
    "### Modifying elements in a list"
   ]
  },
  {
   "cell_type": "code",
   "execution_count": null,
   "metadata": {},
   "outputs": [],
   "source": [
    "str_list = [\"Scarlett\", \"is\", \"a\", \"nice\", 'girl', '!']\n",
    "print (str_list)\n",
    "str_list[0] = \"Jennifer\"\n",
    "print (str_list)"
   ]
  },
  {
   "cell_type": "markdown",
   "metadata": {},
   "source": [
    "##### Note: \n",
    "Be consistent with the quotes you use, either use single quotes throughout or double quotes, don't mix match, I have used it to show readers that it is not a syntax error thus can be used, but to make beautiful and readable code stick with one you prefer. Henceforth, I'll use double quotes for strings and single for characters."
   ]
  },
  {
   "cell_type": "markdown",
   "metadata": {},
   "source": [
    "### Adding elements to a list:"
   ]
  },
  {
   "cell_type": "code",
   "execution_count": null,
   "metadata": {},
   "outputs": [],
   "source": [
    "# Use append() to add elements to the end of the list\n",
    "str_list.append ('She is 21.')\n",
    "print (str_list)"
   ]
  },
  {
   "cell_type": "markdown",
   "metadata": {},
   "source": [
    "So, you can build lists like this:"
   ]
  },
  {
   "cell_type": "code",
   "execution_count": null,
   "metadata": {},
   "outputs": [],
   "source": [
    "my_list = []\n",
    "my_list.append (\"myname\")\n",
    "my_list.append (\"myage\")\n",
    "my_list.append (\"myaddress\")\n",
    "my_list.append (\"myphn\")\n",
    "my_list.append (\"is\")\n",
    "my_list.append (1234567890)\n",
    "print (my_list)"
   ]
  },
  {
   "cell_type": "markdown",
   "metadata": {},
   "source": [
    "### Inserting elements to list"
   ]
  },
  {
   "cell_type": "code",
   "execution_count": null,
   "metadata": {},
   "outputs": [],
   "source": [
    "# insert(index, element)\n",
    "my_list.insert (0, \"Mr/Miss/Mrs\")\n",
    "print (my_list)\n",
    "\n",
    "my_list.insert (-1, \"mymail\")\n",
    "print (my_list)"
   ]
  },
  {
   "cell_type": "markdown",
   "metadata": {},
   "source": [
    "##### Note:\n",
    "Using '-1' to append at the end doesn't works and inserts element at the 2nd last position.\n",
    "Let's see about '-2'"
   ]
  },
  {
   "cell_type": "code",
   "execution_count": null,
   "metadata": {},
   "outputs": [],
   "source": [
    "my_list = ['A', 'B', 'C', 'D']\n",
    "my_list.insert (-2, 'E')\n",
    "print (my_list)"
   ]
  },
  {
   "cell_type": "markdown",
   "metadata": {},
   "source": [
    "So, as we can see using '-2' inserts at 3rd last position\n",
    "So, we can use '-n' to insert at 'n+1'th position from end.\n",
    "To insert at end we can use:"
   ]
  },
  {
   "cell_type": "code",
   "execution_count": null,
   "metadata": {},
   "outputs": [],
   "source": [
    "# Insert elements at the end\n",
    "l1 = ['A', 'B', 'C', 'D']\n",
    "l2 = ['A', 'B', 'C', 'D']\n",
    "\n",
    "l1.append('E')\n",
    "l2.insert(len(my_list), 'E')\n",
    "print (l1)\n",
    "print (l2)"
   ]
  },
  {
   "cell_type": "markdown",
   "metadata": {},
   "source": [
    "### Length of the list and string use len()"
   ]
  },
  {
   "cell_type": "code",
   "execution_count": null,
   "metadata": {},
   "outputs": [],
   "source": [
    "l1 = ['A', 'B', 'C', 'D', 'E']\n",
    "print (len(l1))\n",
    "\n",
    "l2 = \"Where is Jennifer and Scarlett?\"\n",
    "print (len(l2))"
   ]
  },
  {
   "cell_type": "markdown",
   "metadata": {},
   "source": [
    "### Removing elements from list"
   ]
  },
  {
   "cell_type": "markdown",
   "metadata": {},
   "source": [
    "Using del"
   ]
  },
  {
   "cell_type": "code",
   "execution_count": null,
   "metadata": {},
   "outputs": [],
   "source": [
    "# del can remove any element from list as long as you know its index\n",
    "l1 = ['A', 'B', 'C', 'D', 'E']\n",
    "print (l1)\n",
    "\n",
    "del l1[0]\n",
    "print (l1)\n",
    "\n",
    "del l1[-1]\n",
    "print (l1)"
   ]
  },
  {
   "cell_type": "markdown",
   "metadata": {},
   "source": [
    "Using pop()\n",
    "pop() without any arguments removes the last element from the list\n",
    "Returns that element for further use"
   ]
  },
  {
   "cell_type": "code",
   "execution_count": null,
   "metadata": {},
   "outputs": [],
   "source": [
    "# pop() can remove the last element from list when used without any arguments\n",
    "l1 = ['A', 'B', 'C', 'D', 'E']\n",
    "# pop() returns the last element, so c would store the popped element\n",
    "c = l1.pop()\n",
    "\n",
    "print (l1)\n",
    "print (c) "
   ]
  },
  {
   "cell_type": "markdown",
   "metadata": {},
   "source": [
    "pop() with arguments\n",
    "pop(n) -> Removes the element at index 'n' and returns it"
   ]
  },
  {
   "cell_type": "code",
   "execution_count": null,
   "metadata": {},
   "outputs": [],
   "source": [
    "l1 = ['A', 'B', 'C', 'D', 'E']\n",
    "c = l1.pop(0) # Removes the element at 0 position and returns it\n",
    "print (l1)\n",
    "print (c)\n",
    "\n",
    "c = l1.pop(-1) # Works as expected with negetive indexes\n",
    "print (l1)\n",
    "print (c)"
   ]
  },
  {
   "cell_type": "markdown",
   "metadata": {},
   "source": [
    "### Removing an item by value"
   ]
  },
  {
   "cell_type": "code",
   "execution_count": null,
   "metadata": {},
   "outputs": [],
   "source": [
    "q1 = [\"Seriously, \", \"what\", \"happened\", \"to\", \"Jennifer\", \"and\", \"Jennifer\", \"?\"]\n",
    "print (q1)\n",
    "\n",
    "q1.remove (\"Jennifer\")\n",
    "print (q1)\n",
    "\n",
    "n1 = \"and\"\n",
    "q1.remove(n1)\n",
    "print (q1)"
   ]
  },
  {
   "cell_type": "markdown",
   "metadata": {},
   "source": [
    "##### Note:\n",
    "remove() only removes the first occurence of the value that is specified."
   ]
  },
  {
   "cell_type": "markdown",
   "metadata": {},
   "source": [
    "### Sorting a list"
   ]
  },
  {
   "cell_type": "markdown",
   "metadata": {},
   "source": [
    "sort() -> sorts list in increasing or decreasing order, *permantantly*"
   ]
  },
  {
   "cell_type": "code",
   "execution_count": null,
   "metadata": {},
   "outputs": [],
   "source": [
    "# Sorts in alphabetical order\n",
    "l1 = ['E', 'D', 'C', 'B', 'A']\n",
    "l1.sort()\n",
    "print (l1)\n",
    "\n",
    "# Sorts in increasing order\n",
    "l2 = [2, 200, 16, 4, 1, 0, 9.45, 45.67, 90, 12.01, 12.02]\n",
    "l2.sort()\n",
    "print (l2)"
   ]
  },
  {
   "cell_type": "code",
   "execution_count": null,
   "metadata": {},
   "outputs": [],
   "source": [
    "# Reverse sorts alphabetical order\n",
    "l1 = ['E', 'D', 'C', 'B', 'A']\n",
    "l1.sort(reverse=True)\n",
    "print (l1)\n",
    "\n",
    "# Sorts in decreasing order\n",
    "l2 = [2, 200, 16, 4, 1, 0, 9.45, 45.67, 90, 12.01, 12.02]\n",
    "l2.sort(reverse=True)\n",
    "print (l2)"
   ]
  },
  {
   "cell_type": "markdown",
   "metadata": {},
   "source": [
    "sorted() -> Sorts list in increasing or decreasing order, (temporarily)"
   ]
  },
  {
   "cell_type": "code",
   "execution_count": null,
   "metadata": {},
   "outputs": [],
   "source": [
    "# Sorts in increasing order\n",
    "l2 = [2, 200, 16, 4, 1, 0, 9.45, 45.67, 90, 12.01, 12.02]\n",
    "print (l2)\n",
    "print (sorted(l2))\n",
    "print (l2)"
   ]
  },
  {
   "cell_type": "code",
   "execution_count": null,
   "metadata": {},
   "outputs": [],
   "source": [
    "# Sorts in decreasing order\n",
    "l2 = [2, 200, 16, 4, 1, 0, 9.45, 45.67, 90, 12.01, 12.02]\n",
    "print (l2)\n",
    "print (sorted(l2, reverse=True))\n",
    "print (l2)"
   ]
  },
  {
   "cell_type": "markdown",
   "metadata": {},
   "source": [
    "### Reversing a list"
   ]
  },
  {
   "cell_type": "code",
   "execution_count": null,
   "metadata": {},
   "outputs": [],
   "source": [
    "# Reverse list\n",
    "l1 = ['E', 'D', 'C', 'B', 'A']\n",
    "l1.reverse()\n",
    "print (l1)"
   ]
  },
  {
   "cell_type": "markdown",
   "metadata": {},
   "source": [
    "### Looping Through a list"
   ]
  },
  {
   "cell_type": "code",
   "execution_count": null,
   "metadata": {},
   "outputs": [],
   "source": [
    "l1 = [\"Scarlett\", \"is\", \"now\", \"back\", \"from\", \"her first\", \"Python\", \"lesson.\"]\n",
    "\n",
    "# Do notice the indentations\n",
    "for each_word in l1:\n",
    "    print (each_word)\n",
    "\n",
    "l1 = [\"Scarlett\", \"is\", \"in\", \"love\", \"with\", \"Python\"]\n",
    "print (l1)"
   ]
  },
  {
   "cell_type": "markdown",
   "metadata": {},
   "source": [
    "### Numerical lists"
   ]
  },
  {
   "cell_type": "code",
   "execution_count": null,
   "metadata": {
    "scrolled": true
   },
   "outputs": [],
   "source": [
    "l1 = ['A', 'B', 'C', 'D', 'E']\n",
    "print (\"Guess how much Scarlett scored in her first lesson out of 5:\")\n",
    "for val in range(1, 6):\n",
    "    print (l1[val-1] + \") \" + str(val))"
   ]
  },
  {
   "cell_type": "markdown",
   "metadata": {},
   "source": [
    "##### Note:\n",
    "range(n, m) will loop over numbers from n to m-1"
   ]
  },
  {
   "cell_type": "markdown",
   "metadata": {},
   "source": [
    "Using range() to make a list of numbers"
   ]
  },
  {
   "cell_type": "code",
   "execution_count": null,
   "metadata": {},
   "outputs": [],
   "source": [
    "num_list = list(range(1, 6))\n",
    "print (num_list)"
   ]
  },
  {
   "cell_type": "markdown",
   "metadata": {},
   "source": [
    "Use range() to skip values at intervals"
   ]
  },
  {
   "cell_type": "code",
   "execution_count": null,
   "metadata": {},
   "outputs": [],
   "source": [
    "# range (num_to_start_from, num_to_end_at+1, interval)\n",
    "l1 = list(range(10, 51, 5))\n",
    "print (l1)"
   ]
  },
  {
   "cell_type": "markdown",
   "metadata": {},
   "source": [
    "##### Note:\n",
    "One can use `list()` and `[]` to declare an empty list"
   ]
  },
  {
   "cell_type": "markdown",
   "metadata": {},
   "source": [
    "Operations with list of numbers (1)min() (2)max() (3)sum()"
   ]
  },
  {
   "cell_type": "code",
   "execution_count": null,
   "metadata": {},
   "outputs": [],
   "source": [
    "l1 = [2, 3, 4, 45, 1, 5, 6, 3, 1, 23, 14]\n",
    "print (\"Sum of all: \" + str(sum(l1)))\n",
    "print (\"Max: \" + str(max(l1)))\n",
    "print (\"Min: \" + str(min(l1)))"
   ]
  },
  {
   "cell_type": "markdown",
   "metadata": {},
   "source": [
    "### List Comprehensions:"
   ]
  },
  {
   "cell_type": "code",
   "execution_count": null,
   "metadata": {},
   "outputs": [],
   "source": [
    "# Simple\n",
    "l1 = [i for i in range(20, 30, 1)]\n",
    "l2 = [i+1 for i in range(20, 30, 1)]\n",
    "l3 = [[i, i**2] for i in range(2, 12, 3)]\n",
    "print (l1)\n",
    "print (l2)\n",
    "print (l3)"
   ]
  },
  {
   "cell_type": "code",
   "execution_count": null,
   "metadata": {},
   "outputs": [],
   "source": [
    "# A few more list comprehension examples\n",
    "equi_list_1 = [[x, y, z] for x in range(1, 3) for y in range(3, 6) for z in range(6, 9)]\n",
    "print (equi_list_1)"
   ]
  },
  {
   "cell_type": "markdown",
   "metadata": {},
   "source": [
    "The above list comprehension is equivalent of the following code"
   ]
  },
  {
   "cell_type": "code",
   "execution_count": null,
   "metadata": {},
   "outputs": [],
   "source": [
    "# Equivalent to the above code block\n",
    "equi_list_2 = []\n",
    "for x in range(1, 3):\n",
    "    for y in range(3, 6):\n",
    "        for z in range(6, 9):\n",
    "            equi_list_2.append([x, y, z])\n",
    "print (equi_list_2)"
   ]
  },
  {
   "cell_type": "code",
   "execution_count": null,
   "metadata": {},
   "outputs": [],
   "source": [
    "# Proof of equivalence  (Do execute the above two blocks of code before running this)\n",
    "print (equi_list_1 == equi_list_2)"
   ]
  },
  {
   "cell_type": "code",
   "execution_count": null,
   "metadata": {},
   "outputs": [],
   "source": [
    "# List Comprehension with conditionals\n",
    "l1 = [x if x%5==0 else \"blank\" for x in range(20)]\n",
    "print (l1)"
   ]
  },
  {
   "cell_type": "code",
   "execution_count": null,
   "metadata": {},
   "outputs": [],
   "source": [
    "# One more list comprehension with conditionals\n",
    "l1 = [\"Jennifer\", \"met\", \"Scarlett\", \"in\", \"Python\", \"lessons\", \"they\", \"take.\"]\n",
    "l2 = [[str(x) + \") \" + y] for x in range(len(l1)) for y in l1 if l1[x] == y]\n",
    "print (l2)"
   ]
  },
  {
   "cell_type": "markdown",
   "metadata": {},
   "source": [
    "### Slicing a list"
   ]
  },
  {
   "cell_type": "code",
   "execution_count": null,
   "metadata": {},
   "outputs": [],
   "source": [
    "l1 = [\"Jennifer\", \"is\", \"now\", \"friends\", \"with\", \"Scarlett\"]\n",
    "\n",
    "# [start_index : end_index+1]\n",
    "print(\"[2:5] --> \" + str(l1[2:5]))\n",
    "print(\"[:4]  --> \" + str(l1[:4]))  # everthing before 4th index [excluding the 4th]\n",
    "print(\"[2:]  --> \" + str(l1[2:]))  # everything from 2nd index [including the 2nd]\n",
    "print(\"[:]   --> \" + str(l1[:]))   # every element in the list"
   ]
  },
  {
   "cell_type": "code",
   "execution_count": null,
   "metadata": {},
   "outputs": [],
   "source": [
    "# Some more slicing\n",
    "l1 = [\"Jennifer\", \"and\", \"Scarlett\", \"now\", \"Pythonistas\", \"!\"]\n",
    "\n",
    "print (\"[-2:]   --> \" + str(l1[-2:]))\n",
    "print (\"[:-3]   --> \" + str(l1[:-3]))\n",
    "print (\"[-5:-2] --> \" + str(l1[-5:-2]))\n",
    "print (\"[-4:-6] --> \" + str(l1[-4:-6]))"
   ]
  },
  {
   "cell_type": "code",
   "execution_count": null,
   "metadata": {},
   "outputs": [],
   "source": [
    "# Looping through a slice\n",
    "l1 = [\"Pythonistas\", \"rock\", \"!!!\", \"XD\"]\n",
    "for w in l1[-4:-1]:\n",
    "    print (w.upper())"
   ]
  },
  {
   "cell_type": "markdown",
   "metadata": {},
   "source": [
    "### Copying a list"
   ]
  },
  {
   "cell_type": "code",
   "execution_count": null,
   "metadata": {},
   "outputs": [],
   "source": [
    "l1 = [\"We\", \"should\", \"use\", \"[:]\", \"to\", \"copy\", \"the\", \"whole\", \"list\"]\n",
    "l2 = l1[:]\n",
    "print(l2)"
   ]
  },
  {
   "cell_type": "code",
   "execution_count": null,
   "metadata": {},
   "outputs": [],
   "source": [
    "''' Run the above block first '''\n",
    "# Proof that the above two lists are different\n",
    "l2.append(\". Using [:] ensures the two lists are different\")\n",
    "print (l1)\n",
    "print (l2)"
   ]
  },
  {
   "cell_type": "markdown",
   "metadata": {},
   "source": [
    "#### Note:\n",
    "What happens if we directly assign one list to the other instead of using slices."
   ]
  },
  {
   "cell_type": "code",
   "execution_count": null,
   "metadata": {},
   "outputs": [],
   "source": [
    "l1 = [\"Jennifer\", \"now\", \"wonders\", \"what\", \"happens\", \"if\", \"we\", \"directly\", \"assign.\"]\n",
    "l2 = l1\n",
    "l2.append(\"Both variables point to the same list\")\n",
    "print (l1)\n",
    "print (l2)"
   ]
  },
  {
   "cell_type": "markdown",
   "metadata": {},
   "source": [
    "### Tuples"
   ]
  },
  {
   "cell_type": "markdown",
   "metadata": {},
   "source": [
    "Tuples are list, the elements stored in which cannot be changed."
   ]
  },
  {
   "cell_type": "code",
   "execution_count": null,
   "metadata": {},
   "outputs": [],
   "source": [
    "t1 = (23, 45)\n",
    "print (t1)\n",
    "print (t1[1])"
   ]
  },
  {
   "cell_type": "code",
   "execution_count": null,
   "metadata": {},
   "outputs": [],
   "source": [
    "# Can have more than two elements\n",
    "t1 = (1, 2, 3, 4, 5, 6, 7)\n",
    "print (t1)\n",
    "print (t1[4])"
   ]
  },
  {
   "cell_type": "code",
   "execution_count": null,
   "metadata": {},
   "outputs": [],
   "source": [
    "# Cannot change the elements stored as compared to lists\n",
    "l1 = [1, 2, 3, 4, 5, 6, 7]\n",
    "t1 = (1, 2, 3, 4, 5, 6, 7)\n",
    "\n",
    "# Can change elements in list\n",
    "l1[4] = 1\n",
    "# Cannot change elements in tuple (Uncomment it to see the error)\n",
    "#t1[4] = 1\n",
    "\n",
    "print (l1)\n",
    "print (t1)"
   ]
  },
  {
   "cell_type": "markdown",
   "metadata": {},
   "source": [
    "#### Looping over a tuple"
   ]
  },
  {
   "cell_type": "code",
   "execution_count": null,
   "metadata": {},
   "outputs": [],
   "source": [
    "t1 = (34, 12, 56, 78, 89)\n",
    "for t in t1:\n",
    "    print (t)"
   ]
  },
  {
   "cell_type": "markdown",
   "metadata": {},
   "source": [
    "#### Writing over a tuple"
   ]
  },
  {
   "cell_type": "markdown",
   "metadata": {},
   "source": [
    "One cannot change the elements stored in the tuple. But you can assign a new tuple to the variable that stores the tuple you wanna change."
   ]
  },
  {
   "cell_type": "code",
   "execution_count": null,
   "metadata": {},
   "outputs": [],
   "source": [
    "t1 = (23, 12, 45, 78)\n",
    "print (t1)\n",
    "\n",
    "t1 = (45, 67) # t1 changed to new value\n",
    "print (t1)"
   ]
  },
  {
   "cell_type": "markdown",
   "metadata": {},
   "source": [
    "### Dictionaries"
   ]
  },
  {
   "cell_type": "markdown",
   "metadata": {},
   "source": [
    "Allows to have key:value pairs"
   ]
  },
  {
   "cell_type": "code",
   "execution_count": null,
   "metadata": {},
   "outputs": [],
   "source": [
    "# Simple\n",
    "d1 = {\"Jennifer\":8, 'A':65, 66:'B', 9.45:\"Decimals\"}\n",
    "\n",
    "print (d1[\"Jennifer\"])\n",
    "print (d1['A'])\n",
    "print (d1[66])\n",
    "print (d1[9.45])"
   ]
  },
  {
   "cell_type": "code",
   "execution_count": null,
   "metadata": {},
   "outputs": [],
   "source": [
    "# Adding new kay:value pairs\n",
    "d1 = {\"Jennifer\":8, 'A':65, 66:'B', 9.45:\"Decimals\"}\n",
    "\n",
    "d1[\"Scarlett\"] = 8\n",
    "d1[7.56]       = \"Is a decimal!\"\n",
    "d1['Q']        = 17\n",
    "\n",
    "print (d1[\"Scarlett\"])\n",
    "print (d1[7.56])\n",
    "print (d1['Q'])\n",
    "\n",
    "print (d1)"
   ]
  },
  {
   "cell_type": "code",
   "execution_count": null,
   "metadata": {},
   "outputs": [],
   "source": [
    "# Declaring an empty dictionary\n",
    "d1 = {}\n",
    "\n",
    "# Add new values\n",
    "d1[\"Jennifer\"] = \"Python\"\n",
    "d1[\"Scarlett\"] = \"Python\"\n",
    "d1[45]         = 56\n",
    "\n",
    "print (d1)"
   ]
  },
  {
   "cell_type": "code",
   "execution_count": null,
   "metadata": {},
   "outputs": [],
   "source": [
    "# Modifying values in a dictionary\n",
    "d1 = {\"Python\":\"Is a language\", \"Jennifer\":\"Feels like a supergirl with Python\"}\n",
    "\n",
    "d1[\"Python\"] = \"Is Love\"\n",
    "d1[\"Jennifer\"] = 8\n",
    "print (d1)"
   ]
  },
  {
   "cell_type": "code",
   "execution_count": null,
   "metadata": {},
   "outputs": [],
   "source": [
    "# Removing Key:Value pairs\n",
    "d1 = {\"Key\":\"Value\", \"Jennifer\":\"Scarlett\", \"Scarlett\":\"Jennifer\"}\n",
    "\n",
    "del d1[\"Key\"]\n",
    "print (d1)"
   ]
  },
  {
   "cell_type": "code",
   "execution_count": null,
   "metadata": {},
   "outputs": [],
   "source": [
    "# Storing a dictionary inside a dictionary\n",
    "d1 = {'A':65, 'B':66, 'C':67, 'D': {\n",
    "    \"Breaking\": \"Dict into dicts\", \n",
    "    \"Inception\": \"All over\", \n",
    "    '!': \"XD\"}, \n",
    "    'E':69, \n",
    "    \"What happened with D?\": \"It became a 'D'ictionary! XD\",\n",
    "    66:66}\n",
    "\n",
    "print (d1['D'][\"Inception\"])\n",
    "print (d1[\"What happened with D?\"])\n",
    "print ('\\n')\n",
    "print (d1)"
   ]
  },
  {
   "cell_type": "code",
   "execution_count": null,
   "metadata": {},
   "outputs": [],
   "source": [
    "# Looping through a dictionary\n",
    "for key, value in d1.items():\n",
    "    print(\"Key: \"    + str(key))\n",
    "    print (\"Value: \" + str(value))\n",
    "    print('\\n')"
   ]
  },
  {
   "cell_type": "code",
   "execution_count": null,
   "metadata": {},
   "outputs": [],
   "source": [
    "# Looping through the keys in dictionary\n",
    "for key in d1.keys():\n",
    "    print(\"Key: \"    + str(key))\n",
    "    print (\"Value: \" + str(d1[key]))\n",
    "    print('\\n')"
   ]
  },
  {
   "cell_type": "code",
   "execution_count": null,
   "metadata": {},
   "outputs": [],
   "source": [
    "# Note: Default behaviour is to loop through keys if not specified d1.keys()\n",
    "for k in d1:\n",
    "    print(\"Key: \"    + str(k))"
   ]
  },
  {
   "cell_type": "code",
   "execution_count": null,
   "metadata": {},
   "outputs": [],
   "source": [
    "# Check if a particular key is  present\n",
    "if 'F' not in d1.keys():\n",
    "    print (\"What happened to F?\")"
   ]
  },
  {
   "cell_type": "code",
   "execution_count": null,
   "metadata": {},
   "outputs": [],
   "source": [
    "# Looping through dictonary keys in sorted order (increasing)\n",
    "for key in sorted(d1.keys()):\n",
    "    print (\"Key :\" + key + '\\t' + \"Value :\" + str(d1[key]) + '\\n')"
   ]
  },
  {
   "cell_type": "code",
   "execution_count": null,
   "metadata": {},
   "outputs": [],
   "source": [
    "# Looping through dictonary keys in sorted order (decreasing)\n",
    "for key in sorted(d1.keys(), reverse=True):\n",
    "    print (\"Key :\" + key + '\\t' + \"Value :\" + str(d1[key]) + '\\n')"
   ]
  },
  {
   "cell_type": "code",
   "execution_count": null,
   "metadata": {},
   "outputs": [],
   "source": [
    "# Looping through values in dictionary (with repeats)\n",
    "# Note: If two or more keys have the same value then this method will print all of them\n",
    "for value in d1.values():\n",
    "    print (str(value).title())"
   ]
  },
  {
   "cell_type": "code",
   "execution_count": null,
   "metadata": {},
   "outputs": [],
   "source": [
    "# List in Dictionary\n",
    "d1 = {\"l1\":['A', 'B', 'C', 'D'],\n",
    "      \"l2\":['E', 'F', 'G', 'H'],\n",
    "       45 : \"qwerty\",\n",
    "      '$' : \"$Dollar$\"}\n",
    "\n",
    "# Accessing the elements in list\n",
    "print (d1[\"l1\"][2])\n",
    "print (d1[\"l2\"][-1])"
   ]
  },
  {
   "cell_type": "code",
   "execution_count": null,
   "metadata": {},
   "outputs": [],
   "source": [
    "# Looping over just the lists in dictionary\n",
    "for k in d1.keys():\n",
    "    if type(d1[k]) == list:\n",
    "        print (\"List :\" + k)\n",
    "        for val in d1[k]:\n",
    "            print (val)\n",
    "        print ('\\n')"
   ]
  }
 ],
 "metadata": {
  "kernelspec": {
   "display_name": "Python 3",
   "language": "python",
   "name": "python3"
  },
  "language_info": {
   "codemirror_mode": {
    "name": "ipython",
    "version": 3
   },
   "file_extension": ".py",
   "mimetype": "text/x-python",
   "name": "python",
   "nbconvert_exporter": "python",
   "pygments_lexer": "ipython3",
   "version": "3.5.3"
  }
 },
 "nbformat": 4,
 "nbformat_minor": 2
}
