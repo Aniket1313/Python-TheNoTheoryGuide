{
 "cells": [
  {
   "cell_type": "markdown",
   "metadata": {},
   "source": [
    "# Getting Started with Python by @iArunava"
   ]
  },
  {
   "cell_type": "markdown",
   "metadata": {},
   "source": [
    "This Notebook will get one boosted with python. So, Let's get started!"
   ]
  },
  {
   "cell_type": "markdown",
   "metadata": {},
   "source": [
    "#### Comments:"
   ]
  },
  {
   "cell_type": "code",
   "execution_count": null,
   "metadata": {
    "scrolled": true
   },
   "outputs": [],
   "source": [
    "# This is a python tutorial and a single line comment\n",
    "''' This is a multiline comment\n",
    "    pretty awesome!!\n",
    "    Let me introduce you to jennifer!'''"
   ]
  },
  {
   "cell_type": "markdown",
   "metadata": {},
   "source": [
    "#### Imports:"
   ]
  },
  {
   "cell_type": "code",
   "execution_count": null,
   "metadata": {},
   "outputs": [],
   "source": [
    "import math\n",
    "import random"
   ]
  },
  {
   "cell_type": "markdown",
   "metadata": {},
   "source": [
    "#### Variables:"
   ]
  },
  {
   "cell_type": "code",
   "execution_count": 7,
   "metadata": {},
   "outputs": [],
   "source": [
    "msg = \"Python!\"  # String\n",
    "v2 = 'Python!'   # Also String works same\n",
    "v1 = 2           # Numbers\n",
    "v3 = 3.564       # Floats / Doubles\n",
    "v4 = True        # Boolean (True / False)"
   ]
  },
  {
   "cell_type": "markdown",
   "metadata": {},
   "source": [
    "#### Print:"
   ]
  },
  {
   "cell_type": "code",
   "execution_count": 8,
   "metadata": {},
   "outputs": [
    {
     "name": "stdout",
     "output_type": "stream",
     "text": [
      "Python!\n",
      "Python!\n",
      "2\n",
      "3.564\n",
      "True\n",
      "Hello Python!\n"
     ]
    }
   ],
   "source": [
    "# print() automatically adds a newline\n",
    "print (msg)\n",
    "print (v2)\n",
    "print (v1)\n",
    "print (v3)\n",
    "print (v4)\n",
    "print (\"Hello Python!\")"
   ]
  },
  {
   "cell_type": "markdown",
   "metadata": {},
   "source": [
    "##### Note: \n",
    "Both \" and ' can be used to make strings. And this flexibility allows for the following:"
   ]
  },
  {
   "cell_type": "code",
   "execution_count": null,
   "metadata": {},
   "outputs": [],
   "source": [
    "msg2 = 'Jennifer said, \"I love Python!\"'\n",
    "msg3 = \"After that Jennifer's Python Interpreter said it back to her!\"\n",
    "msg4 = 'Of Course she used the command `print(\"I love Jennifer\")`'\n",
    "\n",
    "# Now, let's print them\n",
    "print (msg2)\n",
    "print (msg3)\n",
    "print (msg4)"
   ]
  },
  {
   "cell_type": "markdown",
   "metadata": {},
   "source": [
    "#### Case change of string variables:"
   ]
  },
  {
   "cell_type": "code",
   "execution_count": null,
   "metadata": {},
   "outputs": [],
   "source": [
    "name    = \"jennifEr loves Python\"\n",
    "\n",
    "# Change name string to title case i.e. first letter of each word is capitalized\n",
    "name_t  = name.title() \n",
    "print (name_t)\n",
    "\n",
    "# Change name string to upper case i.e. first letter of each word is capitalized\n",
    "name_t  = name.upper() \n",
    "print (name_t)\n",
    "\n",
    "# Change name string to lower case i.e. first letter of each word is capitalized\n",
    "name_t  = name.lower() \n",
    "print (name_t)"
   ]
  },
  {
   "cell_type": "markdown",
   "metadata": {},
   "source": [
    "#### String Concatenation:"
   ]
  },
  {
   "cell_type": "code",
   "execution_count": null,
   "metadata": {},
   "outputs": [],
   "source": [
    "fname = \"jennifer\"\n",
    "lname = \"python\"\n",
    "flname = fname + \" \" + lname\n",
    "\n",
    "print (fname + \" \" + lname)\n",
    "print (\"Jennifer\" + \" \" + \"Python\")\n",
    "# OR equivalently\n",
    "print (flname.title())"
   ]
  },
  {
   "cell_type": "markdown",
   "metadata": {},
   "source": [
    "#### Adding WhiteSpaces:"
   ]
  },
  {
   "cell_type": "code",
   "execution_count": null,
   "metadata": {},
   "outputs": [],
   "source": [
    "print (\"Jen\\nloves\\npython\")"
   ]
  },
  {
   "cell_type": "code",
   "execution_count": null,
   "metadata": {},
   "outputs": [],
   "source": [
    "print (\"Jen\\tloves\\tpython\")"
   ]
  },
  {
   "cell_type": "code",
   "execution_count": null,
   "metadata": {},
   "outputs": [],
   "source": [
    "print (\"Jen\\tloves\\npython\")"
   ]
  },
  {
   "cell_type": "markdown",
   "metadata": {},
   "source": [
    "#### Stripping Whitespace:"
   ]
  },
  {
   "cell_type": "code",
   "execution_count": null,
   "metadata": {},
   "outputs": [],
   "source": [
    "name1 = \"    Jennifer\"\n",
    "name2 = \"Jennifer    \"\n",
    "name3 = \"  Jennifer  \"\n",
    "\n",
    "print (name1)\n",
    "print (name2)\n",
    "print (name3)\n",
    "print (\"----------\")\n",
    "print (name1.lstrip()) # lstrip() takes all extra whitespaces from left\n",
    "print (name2.rstrip()) # rstrip() takes all extra whitespaces from right\n",
    "print (name3.strip())  # strip() takes all extra whitespaces from both left and right"
   ]
  },
  {
   "cell_type": "markdown",
   "metadata": {},
   "source": [
    "#### Arithmetic Operations:"
   ]
  },
  {
   "cell_type": "code",
   "execution_count": null,
   "metadata": {},
   "outputs": [],
   "source": [
    "# Add\n",
    "print (3 + 2)\n",
    "print (3.4565 + 56.232)\n",
    "print ('------------')\n",
    "\n",
    "# Subtract\n",
    "print (3 - 4)\n",
    "print (34.56 - 3.78)\n",
    "print ('------------')\n",
    "\n",
    "# Multiply\n",
    "print (4 * 3)\n",
    "print (7.56 * 34)\n",
    "print ('------------')\n",
    "\n",
    "# Division\n",
    "print (5 / 2)\n",
    "print (5.0 / 2)\n",
    "print (5 / 2.0)\n",
    "print (25.0 / 5)\n",
    "print ('------------')\n",
    "\n",
    "# Exponents\n",
    "print (4 ** 4)\n",
    "print (5.67 ** 3)"
   ]
  },
  {
   "cell_type": "markdown",
   "metadata": {},
   "source": [
    "Tricks #1:"
   ]
  },
  {
   "cell_type": "code",
   "execution_count": null,
   "metadata": {},
   "outputs": [],
   "source": [
    "print (\"we\" * 5)"
   ]
  },
  {
   "cell_type": "markdown",
   "metadata": {},
   "source": [
    "str() function:"
   ]
  },
  {
   "cell_type": "code",
   "execution_count": null,
   "metadata": {},
   "outputs": [],
   "source": [
    "jensage = 21\n",
    "# print (\"Jennifer's age is \" + jensage) ## This is an error as one cannot concatenate string and integer\n",
    "print (\"Jennifer's age is \" + str(jensage)) # This works!"
   ]
  },
  {
   "cell_type": "markdown",
   "metadata": {},
   "source": [
    "The Zen Of Python.\n",
    "In your interpreter import 'this'"
   ]
  },
  {
   "cell_type": "code",
   "execution_count": null,
   "metadata": {},
   "outputs": [],
   "source": [
    "import this"
   ]
  },
  {
   "cell_type": "markdown",
   "metadata": {},
   "source": [
    "#### Lists:"
   ]
  },
  {
   "cell_type": "code",
   "execution_count": 23,
   "metadata": {},
   "outputs": [
    {
     "name": "stdout",
     "output_type": "stream",
     "text": [
      "['Jennifer', 'Python', 'Scarlett']\n",
      "['Jennifer', 'Python', 'refinneJ', 'J', '9', 9, 12.9, 'Who']\n"
     ]
    }
   ],
   "source": [
    "names = [\"Jennifer\", \"Python\", \"Scarlett\"]\n",
    "print (names)\n",
    "\n",
    "# Can have multiple data types in one list\n",
    "rand_list = [\"Jennifer\", \"Python\", \"refinneJ\", \"J\", \"9\", 9, 12.90, \"Who\"]\n",
    "print (rand_list)"
   ]
  },
  {
   "cell_type": "markdown",
   "metadata": {},
   "source": [
    "#### Accessing elements in a list:"
   ]
  },
  {
   "cell_type": "code",
   "execution_count": 21,
   "metadata": {},
   "outputs": [
    {
     "name": "stdout",
     "output_type": "stream",
     "text": [
      "Scarlett\n",
      "J\n",
      "Jennifer Refinnej\n"
     ]
    }
   ],
   "source": [
    "# O-indexed\n",
    "print (names[2])\n",
    "print (rand_list[3])\n",
    "print (names[0] + \" \" + rand_list[2].title())"
   ]
  },
  {
   "cell_type": "markdown",
   "metadata": {},
   "source": [
    "Negetive indexes:\n",
    "One can access the elements from the end of the list without knowing the size of the list"
   ]
  },
  {
   "cell_type": "code",
   "execution_count": null,
   "metadata": {},
   "outputs": [],
   "source": [
    "print (rand_list[-1]) # Returns the last element of the list [1st from the end]\n",
    "print (rand_list[-2]) # Returns the 2nd last element\n",
    "# and so on.."
   ]
  },
  {
   "cell_type": "markdown",
   "metadata": {},
   "source": [
    "Now here's a question."
   ]
  },
  {
   "cell_type": "code",
   "execution_count": 26,
   "metadata": {},
   "outputs": [
    {
     "name": "stdout",
     "output_type": "stream",
     "text": [
      "Who is Scarlett?\n",
      "A) Jennifer's sister\tB) Jennifer's Friend\n",
      "C) Not Related to Jennifer\tD) Nice question but I don't know\n"
     ]
    }
   ],
   "source": [
    "print (rand_list[-1] + \" is \" + names[2] + \"?\")\n",
    "print (\"A) \" + rand_list[0] + \"'s sister\\tB) \" + names[0] + \"'s Friend\\nC) Not Related to \" + rand_list[-8] + \"\\tD) Nice question but I don't know\")"
   ]
  },
  {
   "cell_type": "markdown",
   "metadata": {},
   "source": [
    "#### Modifying elements in a list"
   ]
  },
  {
   "cell_type": "code",
   "execution_count": 29,
   "metadata": {},
   "outputs": [
    {
     "name": "stdout",
     "output_type": "stream",
     "text": [
      "['Scarlett', 'is', 'a', 'nice', 'girl', '!']\n",
      "['Jennifer', 'is', 'a', 'nice', 'girl', '!']\n"
     ]
    }
   ],
   "source": [
    "str_list = [\"Scarlett\", \"is\", \"a\", \"nice\", 'girl', '!']\n",
    "print (str_list)\n",
    "str_list[0] = \"Jennifer\"\n",
    "print (str_list)"
   ]
  },
  {
   "cell_type": "markdown",
   "metadata": {},
   "source": [
    "##### Note: \n",
    "Be consistent with the quotes you use, either use single quotes throughout or double quotes, don't mix match, I have used it to show readers that it is not a syntax error thus can be used, but to make beautiful and readable code stick with one you prefer. Henceforth, I'll use double quotes for strings and single for characters."
   ]
  },
  {
   "cell_type": "markdown",
   "metadata": {},
   "source": [
    "#### Adding elements to a list:"
   ]
  },
  {
   "cell_type": "code",
   "execution_count": 30,
   "metadata": {},
   "outputs": [
    {
     "name": "stdout",
     "output_type": "stream",
     "text": [
      "['Jennifer', 'is', 'a', 'nice', 'girl', '!', 'She is 21.']\n"
     ]
    }
   ],
   "source": [
    "# Use append() to add elements to the end of the list\n",
    "str_list.append ('She is 21.')\n",
    "print (str_list)"
   ]
  },
  {
   "cell_type": "markdown",
   "metadata": {},
   "source": [
    "So, you can build lists like this:"
   ]
  },
  {
   "cell_type": "code",
   "execution_count": 32,
   "metadata": {},
   "outputs": [
    {
     "name": "stdout",
     "output_type": "stream",
     "text": [
      "['myname', 'myage', 'myaddress', 'myphn', 'is', 1234567890]\n"
     ]
    }
   ],
   "source": [
    "my_list = []\n",
    "my_list.append (\"myname\")\n",
    "my_list.append (\"myage\")\n",
    "my_list.append (\"myaddress\")\n",
    "my_list.append (\"myphn\")\n",
    "my_list.append (\"is\")\n",
    "my_list.append (1234567890)\n",
    "print (my_list)"
   ]
  },
  {
   "cell_type": "markdown",
   "metadata": {},
   "source": [
    "#### Inserting elements to list"
   ]
  },
  {
   "cell_type": "code",
   "execution_count": 33,
   "metadata": {},
   "outputs": [
    {
     "name": "stdout",
     "output_type": "stream",
     "text": [
      "['Mr/Miss/Mrs', 'myname', 'myage', 'myaddress', 'myphn', 'is', 1234567890]\n",
      "['Mr/Miss/Mrs', 'myname', 'myage', 'myaddress', 'myphn', 'is', 'mymail', 1234567890]\n"
     ]
    }
   ],
   "source": [
    "# insert(index, element)\n",
    "my_list.insert (0, \"Mr/Miss/Mrs\")\n",
    "print (my_list)\n",
    "\n",
    "my_list.insert (-1, \"mymail\")\n",
    "print (my_list)"
   ]
  },
  {
   "cell_type": "markdown",
   "metadata": {},
   "source": [
    "##### Note:\n",
    "Using '-1' to append at the end doesn't works and inserts element at the 2nd last position.\n",
    "Let's see about '-2'"
   ]
  },
  {
   "cell_type": "code",
   "execution_count": 36,
   "metadata": {},
   "outputs": [
    {
     "name": "stdout",
     "output_type": "stream",
     "text": [
      "['A', 'B', 'E', 'C', 'D']\n"
     ]
    }
   ],
   "source": [
    "my_list = ['A', 'B', 'C', 'D']\n",
    "my_list.insert (-2, 'E')\n",
    "print (my_list)"
   ]
  },
  {
   "cell_type": "markdown",
   "metadata": {},
   "source": [
    "So, as we can see using '-2' inserts at 3rd last position\n",
    "So, we can use '-n' to insert at 'n+1'th position from end.\n",
    "To insert at end we can use:"
   ]
  },
  {
   "cell_type": "code",
   "execution_count": 39,
   "metadata": {},
   "outputs": [
    {
     "name": "stdout",
     "output_type": "stream",
     "text": [
      "['A', 'B', 'C', 'D', 'E']\n",
      "['A', 'B', 'C', 'D', 'E']\n"
     ]
    }
   ],
   "source": [
    "# Insert elements at the end\n",
    "l1 = ['A', 'B', 'C', 'D']\n",
    "l2 = ['A', 'B', 'C', 'D']\n",
    "\n",
    "l1.append('E')\n",
    "l2.insert(len(my_list), 'E')\n",
    "print (l1)\n",
    "print (l2)"
   ]
  },
  {
   "cell_type": "markdown",
   "metadata": {},
   "source": [
    "#### Length of the list and string use len()"
   ]
  },
  {
   "cell_type": "code",
   "execution_count": 43,
   "metadata": {},
   "outputs": [
    {
     "name": "stdout",
     "output_type": "stream",
     "text": [
      "5\n",
      "31\n"
     ]
    }
   ],
   "source": [
    "l1 = ['A', 'B', 'C', 'D', 'E']\n",
    "print (len(l1))\n",
    "\n",
    "l2 = \"Where is Jennifer and Scarlett?\"\n",
    "print (len(l2))"
   ]
  },
  {
   "cell_type": "markdown",
   "metadata": {},
   "source": [
    "#### Removing elements from list"
   ]
  },
  {
   "cell_type": "markdown",
   "metadata": {},
   "source": [
    "Using del"
   ]
  },
  {
   "cell_type": "code",
   "execution_count": 46,
   "metadata": {},
   "outputs": [
    {
     "name": "stdout",
     "output_type": "stream",
     "text": [
      "['A', 'B', 'C', 'D', 'E']\n",
      "['B', 'C', 'D', 'E']\n",
      "['B', 'C', 'D']\n"
     ]
    }
   ],
   "source": [
    "# del can remove any element from list as long as you know its index\n",
    "l1 = ['A', 'B', 'C', 'D', 'E']\n",
    "print (l1)\n",
    "\n",
    "del l1[0]\n",
    "print (l1)\n",
    "\n",
    "del l1[-1]\n",
    "print (l1)"
   ]
  },
  {
   "cell_type": "markdown",
   "metadata": {},
   "source": [
    "Using pop()\n",
    "pop() without any arguments removes the last element from the list\n",
    "Returns that element for further use"
   ]
  },
  {
   "cell_type": "code",
   "execution_count": 47,
   "metadata": {},
   "outputs": [
    {
     "name": "stdout",
     "output_type": "stream",
     "text": [
      "['A', 'B', 'C', 'D']\n",
      "E\n"
     ]
    }
   ],
   "source": [
    "# pop() can remove the last element from list when used without any arguments\n",
    "l1 = ['A', 'B', 'C', 'D', 'E']\n",
    "# pop() returns the last element, so c would store the popped element\n",
    "c = l1.pop()\n",
    "\n",
    "print (l1)\n",
    "print (c) "
   ]
  },
  {
   "cell_type": "markdown",
   "metadata": {},
   "source": [
    "pop() with arguments\n",
    "pop(n) -> Removes the element at index 'n' and returns it"
   ]
  },
  {
   "cell_type": "code",
   "execution_count": 48,
   "metadata": {},
   "outputs": [
    {
     "name": "stdout",
     "output_type": "stream",
     "text": [
      "['B', 'C', 'D', 'E']\n",
      "A\n",
      "['B', 'C', 'D']\n",
      "E\n"
     ]
    }
   ],
   "source": [
    "l1 = ['A', 'B', 'C', 'D', 'E']\n",
    "c = l1.pop(0) # Removes the element at 0 position and returns it\n",
    "print (l1)\n",
    "print (c)\n",
    "\n",
    "c = l1.pop(-1) # Works as expected with negetive indexes\n",
    "print (l1)\n",
    "print (c)"
   ]
  },
  {
   "cell_type": "markdown",
   "metadata": {},
   "source": [
    "#### Removing an item by value"
   ]
  },
  {
   "cell_type": "code",
   "execution_count": 3,
   "metadata": {},
   "outputs": [
    {
     "name": "stdout",
     "output_type": "stream",
     "text": [
      "['Seriously, ', 'what', 'happened', 'to', 'Jennifer', 'and', 'Jennifer', '?']\n",
      "['Seriously, ', 'what', 'happened', 'to', 'and', 'Jennifer', '?']\n",
      "['Seriously, ', 'what', 'happened', 'to', 'Jennifer', '?']\n"
     ]
    }
   ],
   "source": [
    "q1 = [\"Seriously, \", \"what\", \"happened\", \"to\", \"Jennifer\", \"and\", \"Jennifer\", \"?\"]\n",
    "print (q1)\n",
    "\n",
    "q1.remove (\"Jennifer\")\n",
    "print (q1)\n",
    "\n",
    "n1 = \"and\"\n",
    "q1.remove(n1)\n",
    "print (q1)"
   ]
  },
  {
   "cell_type": "markdown",
   "metadata": {},
   "source": [
    "##### Note:\n",
    "remove() only removes the first occurence of the value that is specified."
   ]
  },
  {
   "cell_type": "markdown",
   "metadata": {},
   "source": [
    "#### Sorting a list"
   ]
  },
  {
   "cell_type": "markdown",
   "metadata": {},
   "source": [
    "sort() -> sorts list in increasing or decreasing order, *permantantly*"
   ]
  },
  {
   "cell_type": "code",
   "execution_count": 5,
   "metadata": {},
   "outputs": [
    {
     "name": "stdout",
     "output_type": "stream",
     "text": [
      "['A', 'B', 'C', 'D', 'E']\n",
      "[0, 1, 2, 4, 9.45, 12.01, 12.02, 16, 45.67, 90, 200]\n"
     ]
    }
   ],
   "source": [
    "# Sorts in alphabetical order\n",
    "l1 = ['E', 'D', 'C', 'B', 'A']\n",
    "l1.sort()\n",
    "print (l1)\n",
    "\n",
    "# Sorts in increasing order\n",
    "l2 = [2, 200, 16, 4, 1, 0, 9.45, 45.67, 90, 12.01, 12.02]\n",
    "l2.sort()\n",
    "print (l2)"
   ]
  },
  {
   "cell_type": "code",
   "execution_count": 9,
   "metadata": {},
   "outputs": [
    {
     "name": "stdout",
     "output_type": "stream",
     "text": [
      "['E', 'D', 'C', 'B', 'A']\n",
      "[200, 90, 45.67, 16, 12.02, 12.01, 9.45, 4, 2, 1, 0]\n"
     ]
    }
   ],
   "source": [
    "# Reverse sorts alphabetical order\n",
    "l1 = ['E', 'D', 'C', 'B', 'A']\n",
    "l1.sort(reverse=True)\n",
    "print (l1)\n",
    "\n",
    "# Sorts in decreasing order\n",
    "l2 = [2, 200, 16, 4, 1, 0, 9.45, 45.67, 90, 12.01, 12.02]\n",
    "l2.sort(reverse=True)\n",
    "print (l2)"
   ]
  },
  {
   "cell_type": "markdown",
   "metadata": {},
   "source": [
    "sorted() -> Sorts list in increasing or decreasing order, (temporarily)"
   ]
  },
  {
   "cell_type": "code",
   "execution_count": 12,
   "metadata": {},
   "outputs": [
    {
     "name": "stdout",
     "output_type": "stream",
     "text": [
      "[2, 200, 16, 4, 1, 0, 9.45, 45.67, 90, 12.01, 12.02]\n",
      "[0, 1, 2, 4, 9.45, 12.01, 12.02, 16, 45.67, 90, 200]\n",
      "[2, 200, 16, 4, 1, 0, 9.45, 45.67, 90, 12.01, 12.02]\n"
     ]
    }
   ],
   "source": [
    "# Sorts in increasing order\n",
    "l2 = [2, 200, 16, 4, 1, 0, 9.45, 45.67, 90, 12.01, 12.02]\n",
    "print (l2)\n",
    "print (sorted(l2))\n",
    "print (l2)"
   ]
  },
  {
   "cell_type": "code",
   "execution_count": 13,
   "metadata": {
    "scrolled": true
   },
   "outputs": [
    {
     "name": "stdout",
     "output_type": "stream",
     "text": [
      "[2, 200, 16, 4, 1, 0, 9.45, 45.67, 90, 12.01, 12.02]\n",
      "[200, 90, 45.67, 16, 12.02, 12.01, 9.45, 4, 2, 1, 0]\n",
      "[2, 200, 16, 4, 1, 0, 9.45, 45.67, 90, 12.01, 12.02]\n"
     ]
    }
   ],
   "source": [
    "# Sorts in decreasing order\n",
    "l2 = [2, 200, 16, 4, 1, 0, 9.45, 45.67, 90, 12.01, 12.02]\n",
    "print (l2)\n",
    "print (sorted(l2, reverse=True))\n",
    "print (l2)"
   ]
  },
  {
   "cell_type": "markdown",
   "metadata": {},
   "source": [
    "#### Reversing a list"
   ]
  },
  {
   "cell_type": "code",
   "execution_count": 14,
   "metadata": {},
   "outputs": [
    {
     "name": "stdout",
     "output_type": "stream",
     "text": [
      "['A', 'B', 'C', 'D', 'E']\n"
     ]
    }
   ],
   "source": [
    "# Reverse list\n",
    "l1 = ['E', 'D', 'C', 'B', 'A']\n",
    "l1.reverse()\n",
    "print (l1)"
   ]
  },
  {
   "cell_type": "code",
   "execution_count": null,
   "metadata": {},
   "outputs": [],
   "source": []
  }
 ],
 "metadata": {
  "kernelspec": {
   "display_name": "Python 3",
   "language": "python",
   "name": "python3"
  },
  "language_info": {
   "codemirror_mode": {
    "name": "ipython",
    "version": 3
   },
   "file_extension": ".py",
   "mimetype": "text/x-python",
   "name": "python",
   "nbconvert_exporter": "python",
   "pygments_lexer": "ipython3",
   "version": "3.5.3"
  }
 },
 "nbformat": 4,
 "nbformat_minor": 2
}
