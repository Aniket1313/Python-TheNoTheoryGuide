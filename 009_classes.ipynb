{
 "cells": [
  {
   "cell_type": "code",
   "execution_count": null,
   "metadata": {},
   "outputs": [],
   "source": [
    "# Simple class\n",
    "class Programmer():\n",
    "    \"\"\"This is called a docstring. This class is to create a Programmer. \n",
    "       Functions inside a class is called a method.\n",
    "       Methods are automatically passed the 'self' argument. \n",
    "       Any variable prefixed with 'self.' is available to the class.\n",
    "       We will also be able to access this self prefixed variables from any instance of the class.\"\"\"\n",
    "    \n",
    "    def __init__(self, name, age, *known_languages):\n",
    "        \"\"\"__init__ is a special method that Python automatically calls \n",
    "           when a new instance of the class is created. \"\"\"\n",
    "        self.name = name\n",
    "        self.age = age\n",
    "        self.languages = set(known_languages)\n",
    "        \n",
    "        # Default value for a class variable\n",
    "        self.concepts_revised = 0\n",
    "        \n",
    "    def add_new_language(self, lang):\n",
    "        self.languages.add(lang)\n",
    "        print (str(self.name) + \" knows a new language : \" + str(lang) + \" !!\")\n",
    "        \n",
    "    def revise_concept(self, concept):\n",
    "        self.concepts_revised += 1\n",
    "        print (str(self.name) + \" just revised \" + str(concept) + \" !!\")\n",
    "        \n",
    "    def cv(self):\n",
    "        print (\"Name   : \" + str(self.name))\n",
    "        print (\"Age    : \" + str(self.age))\n",
    "        print (\"Skills : \" + str(self.languages))"
   ]
  },
  {
   "cell_type": "code",
   "execution_count": null,
   "metadata": {},
   "outputs": [],
   "source": [
    "# Creating an instance of the class\n",
    "# This calls the __init__() method\n",
    "a_programmer = Programmer(\"Jennifer\", 21, \"Python\", \"R\", \"Julia\")"
   ]
  },
  {
   "cell_type": "code",
   "execution_count": null,
   "metadata": {},
   "outputs": [],
   "source": [
    "# Accessing the attributes\n",
    "print (a_programmer.name.title())\n",
    "print (a_programmer.age)\n",
    "print (a_programmer.languages)"
   ]
  },
  {
   "cell_type": "code",
   "execution_count": null,
   "metadata": {},
   "outputs": [],
   "source": [
    "# Calling Methods\n",
    "a_programmer.add_new_language(\"Ruby\")\n",
    "print (a_programmer.languages)\n",
    "\n",
    "print (\"\\nCV for \" + str(a_programmer.name.title()) + \"\\n=================\")\n",
    "a_programmer.cv()"
   ]
  },
  {
   "cell_type": "code",
   "execution_count": null,
   "metadata": {},
   "outputs": [],
   "source": [
    "# Creating multiple instances\n",
    "b_programmer = Programmer (\"Scarlett\", 21, \"Python\", \"Julia\", \"SPLUS\", \"Ruby\")\n",
    "c_programmer = Programmer (\"Ariel\", 20, \"C++\", \"Java\", \"Python\")\n",
    "\n",
    "print (\"\\nCV for \" + str(b_programmer.name.title()) + \"\\n=================\")\n",
    "b_programmer.cv()\n",
    "\n",
    "print (\"\\nCV for \" + str(c_programmer.name.title()) + \"\\n=================\")\n",
    "c_programmer.cv()"
   ]
  },
  {
   "cell_type": "code",
   "execution_count": null,
   "metadata": {},
   "outputs": [],
   "source": [
    "# Directly modifying values\n",
    "print (\"Concepts Revised by \" + str(b_programmer.name.title()) + \" : \" + str(b_programmer.concepts_revised))\n",
    "b_programmer.concepts_revised += 10\n",
    "print (\"Concepts Revised by \" + str(b_programmer.name.title()) + \" : \" + str(b_programmer.concepts_revised))"
   ]
  },
  {
   "cell_type": "code",
   "execution_count": null,
   "metadata": {},
   "outputs": [],
   "source": [
    "# Modifying values through a method\n",
    "print (\"\\nConcepts Revised by \" + str(c_programmer.name.title()) + \" : \" + str(c_programmer.concepts_revised))\n",
    "c_programmer.revise_concept(\"Python Lists\")\n",
    "c_programmer.revise_concept(\"Python Tuples\")\n",
    "c_programmer.revise_concept(\"Python Dictionaries\")\n",
    "print (\"Concepts Revised by \" + str(c_programmer.name.title()) + \" : \" + str(c_programmer.concepts_revised))"
   ]
  }
 ],
 "metadata": {
  "kernelspec": {
   "display_name": "Python 3",
   "language": "python",
   "name": "python3"
  },
  "language_info": {
   "codemirror_mode": {
    "name": "ipython",
    "version": 3
   },
   "file_extension": ".py",
   "mimetype": "text/x-python",
   "name": "python",
   "nbconvert_exporter": "python",
   "pygments_lexer": "ipython3",
   "version": "3.5.3"
  }
 },
 "nbformat": 4,
 "nbformat_minor": 2
}
