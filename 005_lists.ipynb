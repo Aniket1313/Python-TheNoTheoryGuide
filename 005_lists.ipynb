{
 "cells": [
  {
   "cell_type": "markdown",
   "metadata": {},
   "source": [
    "## Lists:"
   ]
  },
  {
   "cell_type": "code",
   "execution_count": null,
   "metadata": {},
   "outputs": [],
   "source": [
    "names = [\"Jennifer\", \"Python\", \"Scarlett\"]\n",
    "print (names)\n",
    "\n",
    "# Can have multiple data types in one list\n",
    "rand_list = [\"Jennifer\", \"Python\", \"refinneJ\", \"J\", \"9\", 9, 12.90, \"Who\"]\n",
    "print (rand_list)"
   ]
  },
  {
   "cell_type": "markdown",
   "metadata": {},
   "source": [
    "### Accessing elements in a list:"
   ]
  },
  {
   "cell_type": "code",
   "execution_count": null,
   "metadata": {},
   "outputs": [],
   "source": [
    "# O-indexed\n",
    "print (names[2])\n",
    "print (rand_list[3])\n",
    "print (names[0] + \" \" + rand_list[2].title())"
   ]
  },
  {
   "cell_type": "markdown",
   "metadata": {},
   "source": [
    "Negetive indexes:\n",
    "One can access the elements from the end of the list without knowing the size of the list"
   ]
  },
  {
   "cell_type": "code",
   "execution_count": null,
   "metadata": {},
   "outputs": [],
   "source": [
    "print (rand_list[-1]) # Returns the last element of the list [1st from the end]\n",
    "print (rand_list[-2]) # Returns the 2nd last element\n",
    "# and so on.."
   ]
  },
  {
   "cell_type": "markdown",
   "metadata": {},
   "source": [
    "Now here's a question."
   ]
  },
  {
   "cell_type": "code",
   "execution_count": null,
   "metadata": {},
   "outputs": [],
   "source": [
    "print (rand_list[-1] + \" is \" + names[2] + \"?\")\n",
    "print (\"A) \" + rand_list[0] + \"'s sister\\tB) \" + names[0] + \"'s Friend\\nC) Not Related to \" + rand_list[-8] + \"\\tD) Nice question but I don't know\")"
   ]
  },
  {
   "cell_type": "markdown",
   "metadata": {},
   "source": [
    "### Modifying elements in a list"
   ]
  },
  {
   "cell_type": "code",
   "execution_count": null,
   "metadata": {},
   "outputs": [],
   "source": [
    "str_list = [\"Scarlett\", \"is\", \"a\", \"nice\", 'girl', '!']\n",
    "print (str_list)\n",
    "str_list[0] = \"Jennifer\"\n",
    "print (str_list)"
   ]
  },
  {
   "cell_type": "markdown",
   "metadata": {},
   "source": [
    "##### Note: \n",
    "Be consistent with the quotes you use, either use single quotes throughout or double quotes, don't mix match, I have used it to show readers that it is not a syntax error thus can be used, but to make beautiful and readable code stick with one you prefer. Henceforth, I'll use double quotes for strings and single for characters."
   ]
  },
  {
   "cell_type": "markdown",
   "metadata": {},
   "source": [
    "### Adding elements to a list:"
   ]
  },
  {
   "cell_type": "code",
   "execution_count": null,
   "metadata": {},
   "outputs": [],
   "source": [
    "# Use append() to add elements to the end of the list\n",
    "str_list.append ('She is 21.')\n",
    "print (str_list)"
   ]
  },
  {
   "cell_type": "markdown",
   "metadata": {},
   "source": [
    "So, you can build lists like this:"
   ]
  },
  {
   "cell_type": "code",
   "execution_count": null,
   "metadata": {},
   "outputs": [],
   "source": [
    "my_list = []\n",
    "my_list.append (\"myname\")\n",
    "my_list.append (\"myage\")\n",
    "my_list.append (\"myaddress\")\n",
    "my_list.append (\"myphn\")\n",
    "my_list.append (\"is\")\n",
    "my_list.append (1234567890)\n",
    "print (my_list)"
   ]
  },
  {
   "cell_type": "markdown",
   "metadata": {},
   "source": [
    "### Inserting elements to list"
   ]
  },
  {
   "cell_type": "code",
   "execution_count": null,
   "metadata": {},
   "outputs": [],
   "source": [
    "# insert(index, element)\n",
    "my_list.insert (0, \"Mr/Miss/Mrs\")\n",
    "print (my_list)\n",
    "\n",
    "my_list.insert (-1, \"mymail\")\n",
    "print (my_list)"
   ]
  },
  {
   "cell_type": "markdown",
   "metadata": {},
   "source": [
    "##### Note:\n",
    "Using '-1' to append at the end doesn't works and inserts element at the 2nd last position.\n",
    "Let's see about '-2'"
   ]
  },
  {
   "cell_type": "code",
   "execution_count": null,
   "metadata": {},
   "outputs": [],
   "source": [
    "my_list = ['A', 'B', 'C', 'D']\n",
    "my_list.insert (-2, 'E')\n",
    "print (my_list)"
   ]
  },
  {
   "cell_type": "markdown",
   "metadata": {},
   "source": [
    "So, as we can see using '-2' inserts at 3rd last position\n",
    "So, we can use '-n' to insert at 'n+1'th position from end.\n",
    "To insert at end we can use:"
   ]
  },
  {
   "cell_type": "code",
   "execution_count": null,
   "metadata": {},
   "outputs": [],
   "source": [
    "# Insert elements at the end\n",
    "l1 = ['A', 'B', 'C', 'D']\n",
    "l2 = ['A', 'B', 'C', 'D']\n",
    "\n",
    "l1.append('E')\n",
    "l2.insert(len(my_list), 'E')\n",
    "print (l1)\n",
    "print (l2)"
   ]
  },
  {
   "cell_type": "markdown",
   "metadata": {},
   "source": [
    "### Length of the list and string use len()"
   ]
  },
  {
   "cell_type": "code",
   "execution_count": null,
   "metadata": {},
   "outputs": [],
   "source": [
    "l1 = ['A', 'B', 'C', 'D', 'E']\n",
    "print (len(l1))\n",
    "\n",
    "l2 = \"Where is Jennifer and Scarlett?\"\n",
    "print (len(l2))"
   ]
  },
  {
   "cell_type": "markdown",
   "metadata": {},
   "source": [
    "### Removing elements from list"
   ]
  },
  {
   "cell_type": "markdown",
   "metadata": {},
   "source": [
    "Using del"
   ]
  },
  {
   "cell_type": "code",
   "execution_count": null,
   "metadata": {},
   "outputs": [],
   "source": [
    "# del can remove any element from list as long as you know its index\n",
    "l1 = ['A', 'B', 'C', 'D', 'E']\n",
    "print (l1)\n",
    "\n",
    "del l1[0]\n",
    "print (l1)\n",
    "\n",
    "del l1[-1]\n",
    "print (l1)"
   ]
  },
  {
   "cell_type": "markdown",
   "metadata": {},
   "source": [
    "Using pop()\n",
    "pop() without any arguments removes the last element from the list\n",
    "Returns that element for further use"
   ]
  },
  {
   "cell_type": "code",
   "execution_count": null,
   "metadata": {},
   "outputs": [],
   "source": [
    "# pop() can remove the last element from list when used without any arguments\n",
    "l1 = ['A', 'B', 'C', 'D', 'E']\n",
    "# pop() returns the last element, so c would store the popped element\n",
    "c = l1.pop()\n",
    "\n",
    "print (l1)\n",
    "print (c) "
   ]
  },
  {
   "cell_type": "markdown",
   "metadata": {},
   "source": [
    "pop() with arguments\n",
    "pop(n) -> Removes the element at index 'n' and returns it"
   ]
  },
  {
   "cell_type": "code",
   "execution_count": null,
   "metadata": {},
   "outputs": [],
   "source": [
    "l1 = ['A', 'B', 'C', 'D', 'E']\n",
    "c = l1.pop(0) # Removes the element at 0 position and returns it\n",
    "print (l1)\n",
    "print (c)\n",
    "\n",
    "c = l1.pop(-1) # Works as expected with negetive indexes\n",
    "print (l1)\n",
    "print (c)"
   ]
  },
  {
   "cell_type": "markdown",
   "metadata": {},
   "source": [
    "### Removing an item by value"
   ]
  },
  {
   "cell_type": "code",
   "execution_count": null,
   "metadata": {},
   "outputs": [],
   "source": [
    "q1 = [\"Seriously, \", \"what\", \"happened\", \"to\", \"Jennifer\", \"and\", \"Jennifer\", \"?\"]\n",
    "print (q1)\n",
    "\n",
    "q1.remove (\"Jennifer\")\n",
    "print (q1)\n",
    "\n",
    "n1 = \"and\"\n",
    "q1.remove(n1)\n",
    "print (q1)"
   ]
  },
  {
   "cell_type": "markdown",
   "metadata": {},
   "source": [
    "##### Note:\n",
    "remove() only removes the first occurence of the value that is specified."
   ]
  },
  {
   "cell_type": "markdown",
   "metadata": {},
   "source": [
    "### Sorting a list"
   ]
  },
  {
   "cell_type": "markdown",
   "metadata": {},
   "source": [
    "sort() -> sorts list in increasing or decreasing order, *permantantly*"
   ]
  },
  {
   "cell_type": "code",
   "execution_count": null,
   "metadata": {},
   "outputs": [],
   "source": [
    "# Sorts in alphabetical order\n",
    "l1 = ['E', 'D', 'C', 'B', 'A']\n",
    "l1.sort()\n",
    "print (l1)\n",
    "\n",
    "# Sorts in increasing order\n",
    "l2 = [2, 200, 16, 4, 1, 0, 9.45, 45.67, 90, 12.01, 12.02]\n",
    "l2.sort()\n",
    "print (l2)"
   ]
  },
  {
   "cell_type": "code",
   "execution_count": null,
   "metadata": {},
   "outputs": [],
   "source": [
    "# Reverse sorts alphabetical order\n",
    "l1 = ['E', 'D', 'C', 'B', 'A']\n",
    "l1.sort(reverse=True)\n",
    "print (l1)\n",
    "\n",
    "# Sorts in decreasing order\n",
    "l2 = [2, 200, 16, 4, 1, 0, 9.45, 45.67, 90, 12.01, 12.02]\n",
    "l2.sort(reverse=True)\n",
    "print (l2)"
   ]
  },
  {
   "cell_type": "markdown",
   "metadata": {},
   "source": [
    "sorted() -> Sorts list in increasing or decreasing order, (temporarily)"
   ]
  },
  {
   "cell_type": "code",
   "execution_count": null,
   "metadata": {},
   "outputs": [],
   "source": [
    "# Sorts in increasing order\n",
    "l2 = [2, 200, 16, 4, 1, 0, 9.45, 45.67, 90, 12.01, 12.02]\n",
    "print (l2)\n",
    "print (sorted(l2))\n",
    "print (l2)"
   ]
  },
  {
   "cell_type": "code",
   "execution_count": null,
   "metadata": {},
   "outputs": [],
   "source": [
    "# Sorts in decreasing order\n",
    "l2 = [2, 200, 16, 4, 1, 0, 9.45, 45.67, 90, 12.01, 12.02]\n",
    "print (l2)\n",
    "print (sorted(l2, reverse=True))\n",
    "print (l2)"
   ]
  },
  {
   "cell_type": "markdown",
   "metadata": {},
   "source": [
    "### Reversing a list"
   ]
  },
  {
   "cell_type": "code",
   "execution_count": null,
   "metadata": {},
   "outputs": [],
   "source": [
    "# Reverse list\n",
    "l1 = ['E', 'D', 'C', 'B', 'A']\n",
    "l1.reverse()\n",
    "print (l1)"
   ]
  },
  {
   "cell_type": "markdown",
   "metadata": {},
   "source": [
    "### Looping Through a list"
   ]
  },
  {
   "cell_type": "code",
   "execution_count": null,
   "metadata": {},
   "outputs": [],
   "source": [
    "l1 = [\"Scarlett\", \"is\", \"now\", \"back\", \"from\", \"her first\", \"Python\", \"lesson.\"]\n",
    "\n",
    "# Do notice the indentations\n",
    "for each_word in l1:\n",
    "    print (each_word)\n",
    "\n",
    "l1 = [\"Scarlett\", \"is\", \"in\", \"love\", \"with\", \"Python\"]\n",
    "print (l1)"
   ]
  },
  {
   "cell_type": "markdown",
   "metadata": {},
   "source": [
    "### Numerical lists"
   ]
  },
  {
   "cell_type": "code",
   "execution_count": null,
   "metadata": {
    "scrolled": true
   },
   "outputs": [],
   "source": [
    "l1 = ['A', 'B', 'C', 'D', 'E']\n",
    "print (\"Guess how much Scarlett scored in her first lesson out of 5:\")\n",
    "for val in range(1, 6):\n",
    "    print (l1[val-1] + \") \" + str(val))"
   ]
  },
  {
   "cell_type": "markdown",
   "metadata": {},
   "source": [
    "##### Note:\n",
    "range(n, m) will loop over numbers from n to m-1"
   ]
  },
  {
   "cell_type": "markdown",
   "metadata": {},
   "source": [
    "Using range() to make a list of numbers"
   ]
  },
  {
   "cell_type": "code",
   "execution_count": null,
   "metadata": {},
   "outputs": [],
   "source": [
    "num_list = list(range(1, 6))\n",
    "print (num_list)"
   ]
  },
  {
   "cell_type": "markdown",
   "metadata": {},
   "source": [
    "Use range() to skip values at intervals"
   ]
  },
  {
   "cell_type": "code",
   "execution_count": null,
   "metadata": {},
   "outputs": [],
   "source": [
    "# range (num_to_start_from, num_to_end_at+1, interval)\n",
    "l1 = list(range(10, 51, 5))\n",
    "print (l1)"
   ]
  },
  {
   "cell_type": "markdown",
   "metadata": {},
   "source": [
    "##### Note:\n",
    "One can use `list()` and `[]` to declare an empty list"
   ]
  },
  {
   "cell_type": "markdown",
   "metadata": {},
   "source": [
    "Operations with list of numbers (1)min() (2)max() (3)sum()"
   ]
  },
  {
   "cell_type": "code",
   "execution_count": null,
   "metadata": {},
   "outputs": [],
   "source": [
    "l1 = [2, 3, 4, 45, 1, 5, 6, 3, 1, 23, 14]\n",
    "print (\"Sum of all: \" + str(sum(l1)))\n",
    "print (\"Max: \" + str(max(l1)))\n",
    "print (\"Min: \" + str(min(l1)))"
   ]
  },
  {
   "cell_type": "markdown",
   "metadata": {},
   "source": [
    "### List Comprehensions:"
   ]
  },
  {
   "cell_type": "code",
   "execution_count": null,
   "metadata": {},
   "outputs": [],
   "source": [
    "# Simple\n",
    "l1 = [i for i in range(20, 30, 1)]\n",
    "l2 = [i+1 for i in range(20, 30, 1)]\n",
    "l3 = [[i, i**2] for i in range(2, 12, 3)]\n",
    "print (l1)\n",
    "print (l2)\n",
    "print (l3)"
   ]
  },
  {
   "cell_type": "code",
   "execution_count": null,
   "metadata": {},
   "outputs": [],
   "source": [
    "# A few more list comprehension examples\n",
    "equi_list_1 = [[x, y, z] for x in range(1, 3) for y in range(3, 6) for z in range(6, 9)]\n",
    "print (equi_list_1)"
   ]
  },
  {
   "cell_type": "markdown",
   "metadata": {},
   "source": [
    "The above list comprehension is equivalent of the following code"
   ]
  },
  {
   "cell_type": "code",
   "execution_count": null,
   "metadata": {},
   "outputs": [],
   "source": [
    "# Equivalent to the above code block\n",
    "equi_list_2 = []\n",
    "for x in range(1, 3):\n",
    "    for y in range(3, 6):\n",
    "        for z in range(6, 9):\n",
    "            equi_list_2.append([x, y, z])\n",
    "print (equi_list_2)"
   ]
  },
  {
   "cell_type": "code",
   "execution_count": null,
   "metadata": {},
   "outputs": [],
   "source": [
    "# Proof of equivalence  (Do execute the above two blocks of code before running this)\n",
    "print (equi_list_1 == equi_list_2)"
   ]
  },
  {
   "cell_type": "code",
   "execution_count": null,
   "metadata": {},
   "outputs": [],
   "source": [
    "# List Comprehension with conditionals\n",
    "l1 = [x if x%5==0 else \"blank\" for x in range(20)]\n",
    "print (l1)"
   ]
  },
  {
   "cell_type": "code",
   "execution_count": null,
   "metadata": {},
   "outputs": [],
   "source": [
    "# One more list comprehension with conditionals\n",
    "l1 = [\"Jennifer\", \"met\", \"Scarlett\", \"in\", \"Python\", \"lessons\", \"they\", \"take.\"]\n",
    "l2 = [[str(x) + \") \" + y] for x in range(len(l1)) for y in l1 if l1[x] == y]\n",
    "print (l2)"
   ]
  },
  {
   "cell_type": "markdown",
   "metadata": {},
   "source": [
    "### Slicing a list"
   ]
  },
  {
   "cell_type": "code",
   "execution_count": null,
   "metadata": {},
   "outputs": [],
   "source": [
    "l1 = [\"Jennifer\", \"is\", \"now\", \"friends\", \"with\", \"Scarlett\"]\n",
    "\n",
    "# [start_index : end_index+1]\n",
    "print(\"[2:5] --> \" + str(l1[2:5]))\n",
    "print(\"[:4]  --> \" + str(l1[:4]))  # everthing before 4th index [excluding the 4th]\n",
    "print(\"[2:]  --> \" + str(l1[2:]))  # everything from 2nd index [including the 2nd]\n",
    "print(\"[:]   --> \" + str(l1[:]))   # every element in the list"
   ]
  },
  {
   "cell_type": "code",
   "execution_count": null,
   "metadata": {},
   "outputs": [],
   "source": [
    "# Some more slicing\n",
    "l1 = [\"Jennifer\", \"and\", \"Scarlett\", \"now\", \"Pythonistas\", \"!\"]\n",
    "\n",
    "print (\"[-2:]   --> \" + str(l1[-2:]))\n",
    "print (\"[:-3]   --> \" + str(l1[:-3]))\n",
    "print (\"[-5:-2] --> \" + str(l1[-5:-2]))\n",
    "print (\"[-4:-6] --> \" + str(l1[-4:-6]))"
   ]
  },
  {
   "cell_type": "code",
   "execution_count": null,
   "metadata": {},
   "outputs": [],
   "source": [
    "# Looping through a slice\n",
    "l1 = [\"Pythonistas\", \"rock\", \"!!!\", \"XD\"]\n",
    "for w in l1[-4:-1]:\n",
    "    print (w.upper())"
   ]
  },
  {
   "cell_type": "markdown",
   "metadata": {},
   "source": [
    "### Copying a list"
   ]
  },
  {
   "cell_type": "code",
   "execution_count": null,
   "metadata": {},
   "outputs": [],
   "source": [
    "l1 = [\"We\", \"should\", \"use\", \"[:]\", \"to\", \"copy\", \"the\", \"whole\", \"list\"]\n",
    "l2 = l1[:]\n",
    "print(l2)"
   ]
  },
  {
   "cell_type": "code",
   "execution_count": null,
   "metadata": {},
   "outputs": [],
   "source": [
    "''' Run the above block first '''\n",
    "# Proof that the above two lists are different\n",
    "l2.append(\". Using [:] ensures the two lists are different\")\n",
    "print (l1)\n",
    "print (l2)"
   ]
  },
  {
   "cell_type": "markdown",
   "metadata": {},
   "source": [
    "#### Note:\n",
    "What happens if we directly assign one list to the other instead of using slices."
   ]
  },
  {
   "cell_type": "code",
   "execution_count": null,
   "metadata": {},
   "outputs": [],
   "source": [
    "l1 = [\"Jennifer\", \"now\", \"wonders\", \"what\", \"happens\", \"if\", \"we\", \"directly\", \"assign.\"]\n",
    "l2 = l1\n",
    "l2.append(\"Both variables point to the same list\")\n",
    "print (l1)\n",
    "print (l2)"
   ]
  }
 ],
 "metadata": {
  "kernelspec": {
   "display_name": "Python 3",
   "language": "python",
   "name": "python3"
  },
  "language_info": {
   "codemirror_mode": {
    "name": "ipython",
    "version": 3
   },
   "file_extension": ".py",
   "mimetype": "text/x-python",
   "name": "python",
   "nbconvert_exporter": "python",
   "pygments_lexer": "ipython3",
   "version": "3.5.3"
  }
 },
 "nbformat": 4,
 "nbformat_minor": 2
}
