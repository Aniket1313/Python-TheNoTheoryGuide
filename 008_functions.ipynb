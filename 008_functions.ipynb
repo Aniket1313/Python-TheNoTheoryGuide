{
 "cells": [
  {
   "cell_type": "markdown",
   "metadata": {},
   "source": [
    "# 008_functions"
   ]
  },
  {
   "cell_type": "code",
   "execution_count": null,
   "metadata": {},
   "outputs": [],
   "source": [
    "# Simple function\n",
    "# Function definition\n",
    "def a_func():\n",
    "    print (\"A Message from the other world!\")\n",
    "\n",
    "# Function Call\n",
    "a_func()\n",
    "a_func()"
   ]
  },
  {
   "cell_type": "code",
   "execution_count": null,
   "metadata": {},
   "outputs": [],
   "source": [
    "# Passing arguments to functions\n",
    "def add_two(num):\n",
    "    print (int(num)+2)\n",
    "\n",
    "add_two (3)\n",
    "add_two (\"45\") # This will work as we are casting the passed parameter to Integer before adding"
   ]
  },
  {
   "cell_type": "code",
   "execution_count": null,
   "metadata": {},
   "outputs": [],
   "source": [
    "# Multiple arguments\n",
    "def add_sub(add_two_to_this, sub_two_from_this):\n",
    "    print (\"Added 2 to : \" + str(add_two_to_this))\n",
    "    print (\"Answer: \" + str(int(add_two_to_this)+2))\n",
    "    \n",
    "    print (\"Subtracted 3 from : \" + str(sub_two_from_this))\n",
    "    print (\"Answer: \" + str(int(sub_two_from_this)-2))\n",
    "    \n",
    "add_sub (45, \"67\")\n",
    "add_sub (\"-156745\", 12131)"
   ]
  },
  {
   "cell_type": "code",
   "execution_count": null,
   "metadata": {},
   "outputs": [],
   "source": [
    "# Ordering of passed argument matters\n",
    "def coding_in(name, language):\n",
    "    print (str(name) + \" is coding in \" + str(language))\n",
    "    \n",
    "coding_in(\"Jennifer\", \"Python\")\n",
    "# If you change the order, results are unexpected\n",
    "coding_in(\"Python\", \"Jennifer\")"
   ]
  },
  {
   "cell_type": "code",
   "execution_count": null,
   "metadata": {},
   "outputs": [],
   "source": [
    "# Keyword Arguments\n",
    "# Pass the argumnets as key:value pairs, so even if unordered it won't produce unexpected results\n",
    "def coding_in(name, language):\n",
    "    print (str(name) + \" is coding in \" + str(language))\n",
    "    \n",
    "coding_in(name=\"Jennifer\", language=\"Python\")\n",
    "# If you change the order, results are same\n",
    "coding_in(language=\"Python\", name=\"Jennifer\")"
   ]
  }
 ],
 "metadata": {
  "kernelspec": {
   "display_name": "Python 3",
   "language": "python",
   "name": "python3"
  },
  "language_info": {
   "codemirror_mode": {
    "name": "ipython",
    "version": 3
   },
   "file_extension": ".py",
   "mimetype": "text/x-python",
   "name": "python",
   "nbconvert_exporter": "python",
   "pygments_lexer": "ipython3",
   "version": "3.5.3"
  }
 },
 "nbformat": 4,
 "nbformat_minor": 2
}
