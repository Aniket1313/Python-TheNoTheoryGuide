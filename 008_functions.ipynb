{
 "cells": [
  {
   "cell_type": "markdown",
   "metadata": {},
   "source": [
    "# 008_functions"
   ]
  },
  {
   "cell_type": "code",
   "execution_count": null,
   "metadata": {},
   "outputs": [],
   "source": [
    "# Simple function\n",
    "# Function definition\n",
    "def a_func():\n",
    "    print (\"A Message from the other world!\")\n",
    "\n",
    "# Function Call\n",
    "a_func()\n",
    "a_func()"
   ]
  },
  {
   "cell_type": "code",
   "execution_count": null,
   "metadata": {},
   "outputs": [],
   "source": [
    "# Passing arguments to functions\n",
    "def add_two(num):\n",
    "    print (int(num)+2)\n",
    "\n",
    "add_two (3)\n",
    "add_two (\"45\") # This will work as we are casting the passed parameter to Integer before adding"
   ]
  },
  {
   "cell_type": "code",
   "execution_count": null,
   "metadata": {},
   "outputs": [],
   "source": [
    "# Multiple arguments\n",
    "def add_sub(add_two_to_this, sub_two_from_this):\n",
    "    print (\"Added 2 to : \" + str(add_two_to_this))\n",
    "    print (\"Answer: \" + str(int(add_two_to_this)+2))\n",
    "    \n",
    "    print (\"Subtracted 3 from : \" + str(sub_two_from_this))\n",
    "    print (\"Answer: \" + str(int(sub_two_from_this)-2))\n",
    "    \n",
    "add_sub (45, \"67\")\n",
    "add_sub (\"-156745\", 12131)"
   ]
  },
  {
   "cell_type": "code",
   "execution_count": null,
   "metadata": {},
   "outputs": [],
   "source": [
    "# Ordering of passed argument matters\n",
    "def coding_in(name, language):\n",
    "    print (str(name) + \" is coding in \" + str(language))\n",
    "    \n",
    "coding_in(\"Jennifer\", \"Python\")\n",
    "# If you change the order, results are unexpected\n",
    "coding_in(\"Python\", \"Jennifer\")"
   ]
  },
  {
   "cell_type": "code",
   "execution_count": null,
   "metadata": {},
   "outputs": [],
   "source": [
    "# Keyword Arguments\n",
    "# Pass the argumnets as key:value pairs, so even if unordered it won't produce unexpected results\n",
    "def coding_in(name, language):\n",
    "    print (str(name) + \" is coding in \" + str(language))\n",
    "    \n",
    "coding_in(name=\"Jennifer\", language=\"Python\")\n",
    "# If you change the order, results are same\n",
    "coding_in(language=\"Python\", name=\"Jennifer\")"
   ]
  },
  {
   "cell_type": "code",
   "execution_count": null,
   "metadata": {},
   "outputs": [],
   "source": [
    "# Default Values for parameters\n",
    "# Note: If you do not pass arguments required by the function and that argument does not have a default value, \n",
    "#       then python will throw an error\n",
    "def coding_in(name, language=\"Python\"):\n",
    "    print (str(name) + \" is coding in \" + str(language))\n",
    "    \n",
    "coding_in(\"Jennifer\") # Since 2nd argument is not passed, it takes on the default parameter given\n",
    "coding_in(\"Jennifer\", \"R\") # Since 2nd argument is passed, it takes on the passed arguemnt"
   ]
  },
  {
   "cell_type": "code",
   "execution_count": null,
   "metadata": {},
   "outputs": [],
   "source": [
    "# Note: You cannot have parameters with no default value after parameters having default value\n",
    "# Following is an error\n",
    "def coding_in(name, language1=\"Python\", language2):\n",
    "    print (str(name) + \" is coding in \" + str(language1) + \" and \" + str(language2))\n",
    "\n",
    "coding_in(\"Jennifer\", \"Python\", \"R\")"
   ]
  },
  {
   "cell_type": "code",
   "execution_count": null,
   "metadata": {},
   "outputs": [],
   "source": [
    "# Easy fix to above error is to declare all non-default parameters, \n",
    "# and then start declaring the default parameters\n",
    "def coding_in(name, language2, language1=\"Python\"):\n",
    "    print (str(name) + \" is coding in \" + str(language1) + \" and \" + str(language2))\n",
    "\n",
    "coding_in(\"Jennifer\", \"Python\", \"R\")\n",
    "coding_in(\"Jennifer\", \"R\")"
   ]
  },
  {
   "cell_type": "code",
   "execution_count": null,
   "metadata": {},
   "outputs": [],
   "source": [
    "# All parameters can be default\n",
    "def coding_in(name=\"Jennifer\", language1=\"Python\", language2=\"R\"):\n",
    "    print (str(name) + \" is coding in \" + str(language1) + \" and \" + str(language2))\n",
    "\n",
    "coding_in()"
   ]
  }
 ],
 "metadata": {
  "kernelspec": {
   "display_name": "Python 3",
   "language": "python",
   "name": "python3"
  },
  "language_info": {
   "codemirror_mode": {
    "name": "ipython",
    "version": 3
   },
   "file_extension": ".py",
   "mimetype": "text/x-python",
   "name": "python",
   "nbconvert_exporter": "python",
   "pygments_lexer": "ipython3",
   "version": "3.5.3"
  }
 },
 "nbformat": 4,
 "nbformat_minor": 2
}
