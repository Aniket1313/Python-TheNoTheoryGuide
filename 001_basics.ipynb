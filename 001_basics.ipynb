{
 "cells": [
  {
   "cell_type": "markdown",
   "metadata": {},
   "source": [
    "# 001_basics"
   ]
  },
  {
   "cell_type": "markdown",
   "metadata": {},
   "source": [
    "## Comments:"
   ]
  },
  {
   "cell_type": "code",
   "execution_count": null,
   "metadata": {
    "scrolled": true
   },
   "outputs": [],
   "source": [
    "# This is a python tutorial and a single line comment\n",
    "''' This is a multiline comment\n",
    "    pretty awesome!!\n",
    "    Let me introduce you to jennifer!'''"
   ]
  },
  {
   "cell_type": "markdown",
   "metadata": {},
   "source": [
    "## Imports:"
   ]
  },
  {
   "cell_type": "code",
   "execution_count": null,
   "metadata": {},
   "outputs": [],
   "source": [
    "import math\n",
    "import random"
   ]
  },
  {
   "cell_type": "markdown",
   "metadata": {},
   "source": [
    "## Variables:"
   ]
  },
  {
   "cell_type": "code",
   "execution_count": null,
   "metadata": {},
   "outputs": [],
   "source": [
    "msg = \"Python!\"  # String\n",
    "v2 = 'Python!'   # Also String works same\n",
    "v1 = 2           # Numbers\n",
    "v3 = 3.564       # Floats / Doubles\n",
    "v4 = True        # Boolean (True / False)"
   ]
  },
  {
   "cell_type": "markdown",
   "metadata": {},
   "source": [
    "## Print:"
   ]
  },
  {
   "cell_type": "code",
   "execution_count": null,
   "metadata": {
    "scrolled": true
   },
   "outputs": [],
   "source": [
    "# print() automatically adds a newline\n",
    "print (msg)\n",
    "print (v2)\n",
    "print (v1)\n",
    "print (v3)\n",
    "print (v4)\n",
    "print (\"Hello Python!\")"
   ]
  },
  {
   "cell_type": "markdown",
   "metadata": {},
   "source": [
    "##### Note: Both \" and ' can be used to make strings. And this flexibility allows for the following:"
   ]
  },
  {
   "cell_type": "code",
   "execution_count": null,
   "metadata": {},
   "outputs": [],
   "source": [
    "msg2 = 'Jennifer said, \"I love Python!\"'\n",
    "msg3 = \"After that Jennifer's Python Interpreter said it back to her!\"\n",
    "msg4 = 'Of Course she used the command `print(\"I love Jennifer\")`'\n",
    "\n",
    "# Now, let's print them\n",
    "print (msg2)\n",
    "print (msg3)\n",
    "print (msg4)"
   ]
  }
 ],
 "metadata": {
  "kernelspec": {
   "display_name": "Python 3",
   "language": "python",
   "name": "python3"
  },
  "language_info": {
   "codemirror_mode": {
    "name": "ipython",
    "version": 3
   },
   "file_extension": ".py",
   "mimetype": "text/x-python",
   "name": "python",
   "nbconvert_exporter": "python",
   "pygments_lexer": "ipython3",
   "version": "3.5.3"
  }
 },
 "nbformat": 4,
 "nbformat_minor": 2
}
