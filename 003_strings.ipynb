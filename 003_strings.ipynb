{
 "cells": [
  {
   "cell_type": "markdown",
   "metadata": {},
   "source": [
    "# 003_strings"
   ]
  },
  {
   "cell_type": "markdown",
   "metadata": {},
   "source": [
    "## Case change of string variables:"
   ]
  },
  {
   "cell_type": "code",
   "execution_count": null,
   "metadata": {},
   "outputs": [],
   "source": [
    "name    = \"jennifEr loves Python\"\n",
    "\n",
    "# Change name string to title case i.e. first letter of each word is capitalized\n",
    "name_t  = name.title() \n",
    "print (name_t)\n",
    "\n",
    "# Change name string to upper case i.e. first letter of each word is capitalized\n",
    "name_t  = name.upper() \n",
    "print (name_t)\n",
    "\n",
    "# Change name string to lower case i.e. first letter of each word is capitalized\n",
    "name_t  = name.lower() \n",
    "print (name_t)"
   ]
  },
  {
   "cell_type": "markdown",
   "metadata": {},
   "source": [
    "## String Concatenation:"
   ]
  },
  {
   "cell_type": "code",
   "execution_count": null,
   "metadata": {},
   "outputs": [],
   "source": [
    "fname = \"jennifer\"\n",
    "lname = \"python\"\n",
    "flname = fname + \" \" + lname\n",
    "\n",
    "print (fname + \" \" + lname)\n",
    "print (\"Jennifer\" + \" \" + \"Python\")\n",
    "# OR equivalently\n",
    "print (flname.title())"
   ]
  },
  {
   "cell_type": "markdown",
   "metadata": {},
   "source": [
    "## Adding WhiteSpaces:"
   ]
  },
  {
   "cell_type": "code",
   "execution_count": null,
   "metadata": {},
   "outputs": [],
   "source": [
    "print (\"Jen\\nloves\\npython\")"
   ]
  },
  {
   "cell_type": "code",
   "execution_count": null,
   "metadata": {},
   "outputs": [],
   "source": [
    "print (\"Jen\\tloves\\tpython\")"
   ]
  },
  {
   "cell_type": "code",
   "execution_count": null,
   "metadata": {},
   "outputs": [],
   "source": [
    "print (\"Jen\\tloves\\npython\")"
   ]
  },
  {
   "cell_type": "markdown",
   "metadata": {},
   "source": [
    "## Stripping Whitespace:"
   ]
  },
  {
   "cell_type": "code",
   "execution_count": null,
   "metadata": {},
   "outputs": [],
   "source": [
    "name1 = \"    Jennifer\"\n",
    "name2 = \"Jennifer    \"\n",
    "name3 = \"  Jennifer  \"\n",
    "\n",
    "print (name1)\n",
    "print (name2)\n",
    "print (name3)\n",
    "print (\"----------\")\n",
    "print (name1.lstrip()) # lstrip() takes all extra whitespaces from left\n",
    "print (name2.rstrip()) # rstrip() takes all extra whitespaces from right\n",
    "print (name3.strip())  # strip() takes all extra whitespaces from both left and right"
   ]
  }
 ],
 "metadata": {
  "kernelspec": {
   "display_name": "Python 3",
   "language": "python",
   "name": "python3"
  },
  "language_info": {
   "codemirror_mode": {
    "name": "ipython",
    "version": 3
   },
   "file_extension": ".py",
   "mimetype": "text/x-python",
   "name": "python",
   "nbconvert_exporter": "python",
   "pygments_lexer": "ipython3",
   "version": "3.5.3"
  }
 },
 "nbformat": 4,
 "nbformat_minor": 2
}
